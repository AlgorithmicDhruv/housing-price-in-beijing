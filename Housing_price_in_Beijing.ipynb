{
  "cells": [
    {
      "cell_type": "markdown",
      "source": [
        "#### Housing price in Beijing\n",
        "* Housing price of Beijing from 2011 to 2017, fetching from `Lianjia.com`\n"
      ],
      "metadata": {
        "id": "1ZO_jMGgQ4_e"
      }
    },
    {
      "cell_type": "markdown",
      "source": [
        "#### Step 1: Data Collection\n",
        "\n",
        "\n",
        "\n",
        "\n",
        "---\n",
        "\n",
        "\n",
        "\n",
        "- The file was encoded in `GB2312` rather than `UTF-8` to expedite processing. The following code snippet accepts a file path and automatically determines the file's encoding using the `chardet` library.\n",
        "- Subsequently, it creates a DataFrame named `df`."
      ],
      "metadata": {
        "id": "Q9D3WFc0ZcIq"
      }
    },
    {
      "cell_type": "code",
      "source": [
        "import pandas as pd\n",
        "import numpy as np\n",
        "\n",
        "filePath = \"/content/new.csv\""
      ],
      "metadata": {
        "id": "oVCMmTizU5ib"
      },
      "execution_count": 2,
      "outputs": []
    },
    {
      "cell_type": "code",
      "source": [
        "# Colab Notebook does not need to pip install it\n",
        "# import chardet\n",
        "\n",
        "# Detect the encoding of the file\n",
        "# with open(filePath, 'rb') as f:\n",
        "#     result = chardet.detect(f.read())\n",
        "\n",
        "# Read the file with the detected encoding\n",
        "# df = pd.read_csv(filePath, encoding=result['encoding'])\n",
        "\n",
        "# Display the Encoding Type of csv\n",
        "# print(\"Encoding Type:\",result['encoding'])\n"
      ],
      "metadata": {
        "collapsed": true,
        "id": "4KVi6B81VB1l"
      },
      "execution_count": 3,
      "outputs": []
    },
    {
      "cell_type": "markdown",
      "source": [
        "To save your time, We ran it and found encoding is `GB2312` which had buch of `Chinese Characters` to be found."
      ],
      "metadata": {
        "id": "yWdfqXTLV9kR"
      }
    },
    {
      "cell_type": "code",
      "source": [
        "df = pd.read_csv(filePath, encoding='GB2312')"
      ],
      "metadata": {
        "id": "gUPpuJUIbKvi",
        "colab": {
          "base_uri": "https://localhost:8080/"
        },
        "outputId": "13032072-82b1-469b-e5c7-5bafc4f40309"
      },
      "execution_count": 4,
      "outputs": [
        {
          "output_type": "stream",
          "name": "stderr",
          "text": [
            "<ipython-input-4-f08c35fea8c5>:1: DtypeWarning: Columns (1,11,12,14) have mixed types. Specify dtype option on import or set low_memory=False.\n",
            "  df = pd.read_csv(filePath, encoding='GB2312')\n"
          ]
        }
      ]
    },
    {
      "cell_type": "markdown",
      "source": [
        "#### Step 2: Data Cleaning\n",
        "\n",
        "\n",
        "---\n",
        "\n",
        "- Upon inspecting columns of type `object` for unique categories, we discovered entries containing Chinese characters such as `低 6`, `中 6`, etc.\n",
        "- We proceeded by translating and parsing these characters, creating new columns with their English equivalents.\n",
        "- Subsequently, we addressed missing values. Once rid of the Chinese characters, we proceeded to drop some columns and adjust data types as necessary."
      ],
      "metadata": {
        "id": "T-MkXPsKf04K"
      }
    },
    {
      "cell_type": "code",
      "source": [
        "df.head()"
      ],
      "metadata": {
        "collapsed": true,
        "id": "n5p6HzdEXV6F",
        "colab": {
          "base_uri": "https://localhost:8080/",
          "height": 0
        },
        "outputId": "63109fb7-bcdc-4b0d-ef94-973d3e6d3fc2"
      },
      "execution_count": 5,
      "outputs": [
        {
          "output_type": "execute_result",
          "data": {
            "text/plain": [
              "                                                 url            id  \\\n",
              "0  https://bj.lianjia.com/chengjiao/101084782030....  101084782030   \n",
              "1  https://bj.lianjia.com/chengjiao/101086012217....  101086012217   \n",
              "2  https://bj.lianjia.com/chengjiao/101086041636....  101086041636   \n",
              "3  https://bj.lianjia.com/chengjiao/101086406841....  101086406841   \n",
              "4  https://bj.lianjia.com/chengjiao/101086920653....  101086920653   \n",
              "\n",
              "          Lng        Lat            Cid   tradeTime     DOM  followers  \\\n",
              "0  116.475489  40.019520  1111027376244  2016-08-09  1464.0        106   \n",
              "1  116.453917  39.881534  1111027381879  2016-07-28   903.0        126   \n",
              "2  116.561978  39.877145  1111040862969  2016-12-11  1271.0         48   \n",
              "3  116.438010  40.076114  1111043185817  2016-09-30   965.0        138   \n",
              "4  116.428392  39.886229  1111027381174  2016-08-28   927.0        286   \n",
              "\n",
              "   totalPrice  price  ...  buildingType constructionTime renovationCondition  \\\n",
              "0       415.0  31680  ...           1.0             2005                   3   \n",
              "1       575.0  43436  ...           1.0             2004                   4   \n",
              "2      1030.0  52021  ...           4.0             2005                   3   \n",
              "3       297.5  22202  ...           1.0             2008                   1   \n",
              "4       392.0  48396  ...           4.0             1960                   2   \n",
              "\n",
              "   buildingStructure ladderRatio elevator  fiveYearsProperty subway  district  \\\n",
              "0                  6       0.217      1.0                0.0    1.0         7   \n",
              "1                  6       0.667      1.0                1.0    0.0         7   \n",
              "2                  6       0.500      1.0                0.0    0.0         7   \n",
              "3                  6       0.273      1.0                0.0    0.0         6   \n",
              "4                  2       0.333      0.0                1.0    1.0         1   \n",
              "\n",
              "   communityAverage  \n",
              "0           56021.0  \n",
              "1           71539.0  \n",
              "2           48160.0  \n",
              "3           51238.0  \n",
              "4           62588.0  \n",
              "\n",
              "[5 rows x 26 columns]"
            ],
            "text/html": [
              "\n",
              "  <div id=\"df-8ad64815-981d-4cb5-9547-47e81a67b28b\" class=\"colab-df-container\">\n",
              "    <div>\n",
              "<style scoped>\n",
              "    .dataframe tbody tr th:only-of-type {\n",
              "        vertical-align: middle;\n",
              "    }\n",
              "\n",
              "    .dataframe tbody tr th {\n",
              "        vertical-align: top;\n",
              "    }\n",
              "\n",
              "    .dataframe thead th {\n",
              "        text-align: right;\n",
              "    }\n",
              "</style>\n",
              "<table border=\"1\" class=\"dataframe\">\n",
              "  <thead>\n",
              "    <tr style=\"text-align: right;\">\n",
              "      <th></th>\n",
              "      <th>url</th>\n",
              "      <th>id</th>\n",
              "      <th>Lng</th>\n",
              "      <th>Lat</th>\n",
              "      <th>Cid</th>\n",
              "      <th>tradeTime</th>\n",
              "      <th>DOM</th>\n",
              "      <th>followers</th>\n",
              "      <th>totalPrice</th>\n",
              "      <th>price</th>\n",
              "      <th>...</th>\n",
              "      <th>buildingType</th>\n",
              "      <th>constructionTime</th>\n",
              "      <th>renovationCondition</th>\n",
              "      <th>buildingStructure</th>\n",
              "      <th>ladderRatio</th>\n",
              "      <th>elevator</th>\n",
              "      <th>fiveYearsProperty</th>\n",
              "      <th>subway</th>\n",
              "      <th>district</th>\n",
              "      <th>communityAverage</th>\n",
              "    </tr>\n",
              "  </thead>\n",
              "  <tbody>\n",
              "    <tr>\n",
              "      <th>0</th>\n",
              "      <td>https://bj.lianjia.com/chengjiao/101084782030....</td>\n",
              "      <td>101084782030</td>\n",
              "      <td>116.475489</td>\n",
              "      <td>40.019520</td>\n",
              "      <td>1111027376244</td>\n",
              "      <td>2016-08-09</td>\n",
              "      <td>1464.0</td>\n",
              "      <td>106</td>\n",
              "      <td>415.0</td>\n",
              "      <td>31680</td>\n",
              "      <td>...</td>\n",
              "      <td>1.0</td>\n",
              "      <td>2005</td>\n",
              "      <td>3</td>\n",
              "      <td>6</td>\n",
              "      <td>0.217</td>\n",
              "      <td>1.0</td>\n",
              "      <td>0.0</td>\n",
              "      <td>1.0</td>\n",
              "      <td>7</td>\n",
              "      <td>56021.0</td>\n",
              "    </tr>\n",
              "    <tr>\n",
              "      <th>1</th>\n",
              "      <td>https://bj.lianjia.com/chengjiao/101086012217....</td>\n",
              "      <td>101086012217</td>\n",
              "      <td>116.453917</td>\n",
              "      <td>39.881534</td>\n",
              "      <td>1111027381879</td>\n",
              "      <td>2016-07-28</td>\n",
              "      <td>903.0</td>\n",
              "      <td>126</td>\n",
              "      <td>575.0</td>\n",
              "      <td>43436</td>\n",
              "      <td>...</td>\n",
              "      <td>1.0</td>\n",
              "      <td>2004</td>\n",
              "      <td>4</td>\n",
              "      <td>6</td>\n",
              "      <td>0.667</td>\n",
              "      <td>1.0</td>\n",
              "      <td>1.0</td>\n",
              "      <td>0.0</td>\n",
              "      <td>7</td>\n",
              "      <td>71539.0</td>\n",
              "    </tr>\n",
              "    <tr>\n",
              "      <th>2</th>\n",
              "      <td>https://bj.lianjia.com/chengjiao/101086041636....</td>\n",
              "      <td>101086041636</td>\n",
              "      <td>116.561978</td>\n",
              "      <td>39.877145</td>\n",
              "      <td>1111040862969</td>\n",
              "      <td>2016-12-11</td>\n",
              "      <td>1271.0</td>\n",
              "      <td>48</td>\n",
              "      <td>1030.0</td>\n",
              "      <td>52021</td>\n",
              "      <td>...</td>\n",
              "      <td>4.0</td>\n",
              "      <td>2005</td>\n",
              "      <td>3</td>\n",
              "      <td>6</td>\n",
              "      <td>0.500</td>\n",
              "      <td>1.0</td>\n",
              "      <td>0.0</td>\n",
              "      <td>0.0</td>\n",
              "      <td>7</td>\n",
              "      <td>48160.0</td>\n",
              "    </tr>\n",
              "    <tr>\n",
              "      <th>3</th>\n",
              "      <td>https://bj.lianjia.com/chengjiao/101086406841....</td>\n",
              "      <td>101086406841</td>\n",
              "      <td>116.438010</td>\n",
              "      <td>40.076114</td>\n",
              "      <td>1111043185817</td>\n",
              "      <td>2016-09-30</td>\n",
              "      <td>965.0</td>\n",
              "      <td>138</td>\n",
              "      <td>297.5</td>\n",
              "      <td>22202</td>\n",
              "      <td>...</td>\n",
              "      <td>1.0</td>\n",
              "      <td>2008</td>\n",
              "      <td>1</td>\n",
              "      <td>6</td>\n",
              "      <td>0.273</td>\n",
              "      <td>1.0</td>\n",
              "      <td>0.0</td>\n",
              "      <td>0.0</td>\n",
              "      <td>6</td>\n",
              "      <td>51238.0</td>\n",
              "    </tr>\n",
              "    <tr>\n",
              "      <th>4</th>\n",
              "      <td>https://bj.lianjia.com/chengjiao/101086920653....</td>\n",
              "      <td>101086920653</td>\n",
              "      <td>116.428392</td>\n",
              "      <td>39.886229</td>\n",
              "      <td>1111027381174</td>\n",
              "      <td>2016-08-28</td>\n",
              "      <td>927.0</td>\n",
              "      <td>286</td>\n",
              "      <td>392.0</td>\n",
              "      <td>48396</td>\n",
              "      <td>...</td>\n",
              "      <td>4.0</td>\n",
              "      <td>1960</td>\n",
              "      <td>2</td>\n",
              "      <td>2</td>\n",
              "      <td>0.333</td>\n",
              "      <td>0.0</td>\n",
              "      <td>1.0</td>\n",
              "      <td>1.0</td>\n",
              "      <td>1</td>\n",
              "      <td>62588.0</td>\n",
              "    </tr>\n",
              "  </tbody>\n",
              "</table>\n",
              "<p>5 rows × 26 columns</p>\n",
              "</div>\n",
              "    <div class=\"colab-df-buttons\">\n",
              "\n",
              "  <div class=\"colab-df-container\">\n",
              "    <button class=\"colab-df-convert\" onclick=\"convertToInteractive('df-8ad64815-981d-4cb5-9547-47e81a67b28b')\"\n",
              "            title=\"Convert this dataframe to an interactive table.\"\n",
              "            style=\"display:none;\">\n",
              "\n",
              "  <svg xmlns=\"http://www.w3.org/2000/svg\" height=\"24px\" viewBox=\"0 -960 960 960\">\n",
              "    <path d=\"M120-120v-720h720v720H120Zm60-500h600v-160H180v160Zm220 220h160v-160H400v160Zm0 220h160v-160H400v160ZM180-400h160v-160H180v160Zm440 0h160v-160H620v160ZM180-180h160v-160H180v160Zm440 0h160v-160H620v160Z\"/>\n",
              "  </svg>\n",
              "    </button>\n",
              "\n",
              "  <style>\n",
              "    .colab-df-container {\n",
              "      display:flex;\n",
              "      gap: 12px;\n",
              "    }\n",
              "\n",
              "    .colab-df-convert {\n",
              "      background-color: #E8F0FE;\n",
              "      border: none;\n",
              "      border-radius: 50%;\n",
              "      cursor: pointer;\n",
              "      display: none;\n",
              "      fill: #1967D2;\n",
              "      height: 32px;\n",
              "      padding: 0 0 0 0;\n",
              "      width: 32px;\n",
              "    }\n",
              "\n",
              "    .colab-df-convert:hover {\n",
              "      background-color: #E2EBFA;\n",
              "      box-shadow: 0px 1px 2px rgba(60, 64, 67, 0.3), 0px 1px 3px 1px rgba(60, 64, 67, 0.15);\n",
              "      fill: #174EA6;\n",
              "    }\n",
              "\n",
              "    .colab-df-buttons div {\n",
              "      margin-bottom: 4px;\n",
              "    }\n",
              "\n",
              "    [theme=dark] .colab-df-convert {\n",
              "      background-color: #3B4455;\n",
              "      fill: #D2E3FC;\n",
              "    }\n",
              "\n",
              "    [theme=dark] .colab-df-convert:hover {\n",
              "      background-color: #434B5C;\n",
              "      box-shadow: 0px 1px 3px 1px rgba(0, 0, 0, 0.15);\n",
              "      filter: drop-shadow(0px 1px 2px rgba(0, 0, 0, 0.3));\n",
              "      fill: #FFFFFF;\n",
              "    }\n",
              "  </style>\n",
              "\n",
              "    <script>\n",
              "      const buttonEl =\n",
              "        document.querySelector('#df-8ad64815-981d-4cb5-9547-47e81a67b28b button.colab-df-convert');\n",
              "      buttonEl.style.display =\n",
              "        google.colab.kernel.accessAllowed ? 'block' : 'none';\n",
              "\n",
              "      async function convertToInteractive(key) {\n",
              "        const element = document.querySelector('#df-8ad64815-981d-4cb5-9547-47e81a67b28b');\n",
              "        const dataTable =\n",
              "          await google.colab.kernel.invokeFunction('convertToInteractive',\n",
              "                                                    [key], {});\n",
              "        if (!dataTable) return;\n",
              "\n",
              "        const docLinkHtml = 'Like what you see? Visit the ' +\n",
              "          '<a target=\"_blank\" href=https://colab.research.google.com/notebooks/data_table.ipynb>data table notebook</a>'\n",
              "          + ' to learn more about interactive tables.';\n",
              "        element.innerHTML = '';\n",
              "        dataTable['output_type'] = 'display_data';\n",
              "        await google.colab.output.renderOutput(dataTable, element);\n",
              "        const docLink = document.createElement('div');\n",
              "        docLink.innerHTML = docLinkHtml;\n",
              "        element.appendChild(docLink);\n",
              "      }\n",
              "    </script>\n",
              "  </div>\n",
              "\n",
              "\n",
              "<div id=\"df-166246bc-9942-45f3-a5f1-d597c1c733af\">\n",
              "  <button class=\"colab-df-quickchart\" onclick=\"quickchart('df-166246bc-9942-45f3-a5f1-d597c1c733af')\"\n",
              "            title=\"Suggest charts\"\n",
              "            style=\"display:none;\">\n",
              "\n",
              "<svg xmlns=\"http://www.w3.org/2000/svg\" height=\"24px\"viewBox=\"0 0 24 24\"\n",
              "     width=\"24px\">\n",
              "    <g>\n",
              "        <path d=\"M19 3H5c-1.1 0-2 .9-2 2v14c0 1.1.9 2 2 2h14c1.1 0 2-.9 2-2V5c0-1.1-.9-2-2-2zM9 17H7v-7h2v7zm4 0h-2V7h2v10zm4 0h-2v-4h2v4z\"/>\n",
              "    </g>\n",
              "</svg>\n",
              "  </button>\n",
              "\n",
              "<style>\n",
              "  .colab-df-quickchart {\n",
              "      --bg-color: #E8F0FE;\n",
              "      --fill-color: #1967D2;\n",
              "      --hover-bg-color: #E2EBFA;\n",
              "      --hover-fill-color: #174EA6;\n",
              "      --disabled-fill-color: #AAA;\n",
              "      --disabled-bg-color: #DDD;\n",
              "  }\n",
              "\n",
              "  [theme=dark] .colab-df-quickchart {\n",
              "      --bg-color: #3B4455;\n",
              "      --fill-color: #D2E3FC;\n",
              "      --hover-bg-color: #434B5C;\n",
              "      --hover-fill-color: #FFFFFF;\n",
              "      --disabled-bg-color: #3B4455;\n",
              "      --disabled-fill-color: #666;\n",
              "  }\n",
              "\n",
              "  .colab-df-quickchart {\n",
              "    background-color: var(--bg-color);\n",
              "    border: none;\n",
              "    border-radius: 50%;\n",
              "    cursor: pointer;\n",
              "    display: none;\n",
              "    fill: var(--fill-color);\n",
              "    height: 32px;\n",
              "    padding: 0;\n",
              "    width: 32px;\n",
              "  }\n",
              "\n",
              "  .colab-df-quickchart:hover {\n",
              "    background-color: var(--hover-bg-color);\n",
              "    box-shadow: 0 1px 2px rgba(60, 64, 67, 0.3), 0 1px 3px 1px rgba(60, 64, 67, 0.15);\n",
              "    fill: var(--button-hover-fill-color);\n",
              "  }\n",
              "\n",
              "  .colab-df-quickchart-complete:disabled,\n",
              "  .colab-df-quickchart-complete:disabled:hover {\n",
              "    background-color: var(--disabled-bg-color);\n",
              "    fill: var(--disabled-fill-color);\n",
              "    box-shadow: none;\n",
              "  }\n",
              "\n",
              "  .colab-df-spinner {\n",
              "    border: 2px solid var(--fill-color);\n",
              "    border-color: transparent;\n",
              "    border-bottom-color: var(--fill-color);\n",
              "    animation:\n",
              "      spin 1s steps(1) infinite;\n",
              "  }\n",
              "\n",
              "  @keyframes spin {\n",
              "    0% {\n",
              "      border-color: transparent;\n",
              "      border-bottom-color: var(--fill-color);\n",
              "      border-left-color: var(--fill-color);\n",
              "    }\n",
              "    20% {\n",
              "      border-color: transparent;\n",
              "      border-left-color: var(--fill-color);\n",
              "      border-top-color: var(--fill-color);\n",
              "    }\n",
              "    30% {\n",
              "      border-color: transparent;\n",
              "      border-left-color: var(--fill-color);\n",
              "      border-top-color: var(--fill-color);\n",
              "      border-right-color: var(--fill-color);\n",
              "    }\n",
              "    40% {\n",
              "      border-color: transparent;\n",
              "      border-right-color: var(--fill-color);\n",
              "      border-top-color: var(--fill-color);\n",
              "    }\n",
              "    60% {\n",
              "      border-color: transparent;\n",
              "      border-right-color: var(--fill-color);\n",
              "    }\n",
              "    80% {\n",
              "      border-color: transparent;\n",
              "      border-right-color: var(--fill-color);\n",
              "      border-bottom-color: var(--fill-color);\n",
              "    }\n",
              "    90% {\n",
              "      border-color: transparent;\n",
              "      border-bottom-color: var(--fill-color);\n",
              "    }\n",
              "  }\n",
              "</style>\n",
              "\n",
              "  <script>\n",
              "    async function quickchart(key) {\n",
              "      const quickchartButtonEl =\n",
              "        document.querySelector('#' + key + ' button');\n",
              "      quickchartButtonEl.disabled = true;  // To prevent multiple clicks.\n",
              "      quickchartButtonEl.classList.add('colab-df-spinner');\n",
              "      try {\n",
              "        const charts = await google.colab.kernel.invokeFunction(\n",
              "            'suggestCharts', [key], {});\n",
              "      } catch (error) {\n",
              "        console.error('Error during call to suggestCharts:', error);\n",
              "      }\n",
              "      quickchartButtonEl.classList.remove('colab-df-spinner');\n",
              "      quickchartButtonEl.classList.add('colab-df-quickchart-complete');\n",
              "    }\n",
              "    (() => {\n",
              "      let quickchartButtonEl =\n",
              "        document.querySelector('#df-166246bc-9942-45f3-a5f1-d597c1c733af button');\n",
              "      quickchartButtonEl.style.display =\n",
              "        google.colab.kernel.accessAllowed ? 'block' : 'none';\n",
              "    })();\n",
              "  </script>\n",
              "</div>\n",
              "\n",
              "    </div>\n",
              "  </div>\n"
            ],
            "application/vnd.google.colaboratory.intrinsic+json": {
              "type": "dataframe",
              "variable_name": "df"
            }
          },
          "metadata": {},
          "execution_count": 5
        }
      ]
    },
    {
      "cell_type": "code",
      "source": [
        "df.info()"
      ],
      "metadata": {
        "collapsed": true,
        "id": "sqGSzViMgTdM",
        "colab": {
          "base_uri": "https://localhost:8080/"
        },
        "outputId": "63a05e68-6fce-46e0-f986-897efae2ace3"
      },
      "execution_count": 6,
      "outputs": [
        {
          "output_type": "stream",
          "name": "stdout",
          "text": [
            "<class 'pandas.core.frame.DataFrame'>\n",
            "RangeIndex: 318851 entries, 0 to 318850\n",
            "Data columns (total 26 columns):\n",
            " #   Column               Non-Null Count   Dtype  \n",
            "---  ------               --------------   -----  \n",
            " 0   url                  318851 non-null  object \n",
            " 1   id                   318851 non-null  object \n",
            " 2   Lng                  318851 non-null  float64\n",
            " 3   Lat                  318851 non-null  float64\n",
            " 4   Cid                  318851 non-null  int64  \n",
            " 5   tradeTime            318851 non-null  object \n",
            " 6   DOM                  160874 non-null  float64\n",
            " 7   followers            318851 non-null  int64  \n",
            " 8   totalPrice           318851 non-null  float64\n",
            " 9   price                318851 non-null  int64  \n",
            " 10  square               318851 non-null  float64\n",
            " 11  livingRoom           318851 non-null  object \n",
            " 12  drawingRoom          318851 non-null  object \n",
            " 13  kitchen              318851 non-null  int64  \n",
            " 14  bathRoom             318851 non-null  object \n",
            " 15  floor                318851 non-null  object \n",
            " 16  buildingType         316830 non-null  float64\n",
            " 17  constructionTime     318851 non-null  object \n",
            " 18  renovationCondition  318851 non-null  int64  \n",
            " 19  buildingStructure    318851 non-null  int64  \n",
            " 20  ladderRatio          318851 non-null  float64\n",
            " 21  elevator             318819 non-null  float64\n",
            " 22  fiveYearsProperty    318819 non-null  float64\n",
            " 23  subway               318819 non-null  float64\n",
            " 24  district             318851 non-null  int64  \n",
            " 25  communityAverage     318388 non-null  float64\n",
            "dtypes: float64(11), int64(7), object(8)\n",
            "memory usage: 63.2+ MB\n"
          ]
        }
      ]
    },
    {
      "cell_type": "code",
      "source": [
        "# Removing url,id and community Id-Cid columns\n",
        "df.drop(columns=['url','id','Cid'],inplace=True)"
      ],
      "metadata": {
        "id": "JHjVZYouf_fp"
      },
      "execution_count": 7,
      "outputs": []
    },
    {
      "cell_type": "code",
      "source": [
        "# Check for unique characters in categorical column\n",
        "\n",
        "for i in df.columns:\n",
        "  if df.loc[:,i].dtype == \"object\":\n",
        "    print(df.loc[:,i].value_counts())\n",
        "    print(\"=\"*20)"
      ],
      "metadata": {
        "collapsed": true,
        "id": "gSu3Rx55seo8",
        "colab": {
          "base_uri": "https://localhost:8080/"
        },
        "outputId": "b55e47ac-bb15-4503-d925-d9247179925d"
      },
      "execution_count": 8,
      "outputs": [
        {
          "output_type": "stream",
          "name": "stdout",
          "text": [
            "tradeTime\n",
            "2016-02-28    1096\n",
            "2016-03-06     948\n",
            "2016-07-31     940\n",
            "2016-08-31     910\n",
            "2016-03-05     824\n",
            "              ... \n",
            "2011-01-24       1\n",
            "2011-01-26       1\n",
            "2011-01-28       1\n",
            "2011-02-15       1\n",
            "2009-01-11       1\n",
            "Name: count, Length: 2560, dtype: int64\n",
            "====================\n",
            "livingRoom\n",
            "2         83333\n",
            "2         77256\n",
            "1         42138\n",
            "1         40248\n",
            "3         36044\n",
            "3         31567\n",
            "4          3472\n",
            "4          3349\n",
            "5           570\n",
            "5           537\n",
            "6           126\n",
            "6           102\n",
            "#NAME?       32\n",
            "7            22\n",
            "0            17\n",
            "7            15\n",
            "0            11\n",
            "8             4\n",
            "8             3\n",
            "9             3\n",
            "9             2\n",
            "Name: count, dtype: int64\n",
            "====================\n",
            "drawingRoom\n",
            "1       115876\n",
            "1       109783\n",
            "2        39084\n",
            "2        33418\n",
            "0        11300\n",
            "0         8386\n",
            "3          474\n",
            "3          444\n",
            "4           31\n",
            "4           16\n",
            "低 6          7\n",
            "中 6          6\n",
            "5            5\n",
            "中 16         3\n",
            "中 14         2\n",
            "高 14         2\n",
            "顶 6          2\n",
            "5            2\n",
            "中 15         1\n",
            "低 16         1\n",
            "高 12         1\n",
            "低 15         1\n",
            "高 6          1\n",
            "底 28         1\n",
            "底 11         1\n",
            "中 24         1\n",
            "底 20         1\n",
            "中 22         1\n",
            "Name: count, dtype: int64\n",
            "====================\n",
            "bathRoom\n",
            "1       206915\n",
            "1        54573\n",
            "2        42367\n",
            "2        10239\n",
            "3         2712\n",
            "0          804\n",
            "3          528\n",
            "4          425\n",
            "0          111\n",
            "4           64\n",
            "5           53\n",
            "5           16\n",
            "2006         9\n",
            "6            9\n",
            "2003         5\n",
            "2004         4\n",
            "2000         3\n",
            "2003         2\n",
            "未知           2\n",
            "2005         2\n",
            "1990         2\n",
            "7            2\n",
            "2011         1\n",
            "1996         1\n",
            "1994         1\n",
            "7            1\n",
            "Name: count, dtype: int64\n",
            "====================\n",
            "floor\n",
            "中 6     34788\n",
            "顶 6     22763\n",
            "高 6     20904\n",
            "低 6     15737\n",
            "底 6     13338\n",
            "        ...  \n",
            "低 36        2\n",
            "低 63        1\n",
            "低 2         1\n",
            "低 35        1\n",
            "低 5         1\n",
            "Name: count, Length: 203, dtype: int64\n",
            "====================\n",
            "constructionTime\n",
            "2004    21145\n",
            "2003    19409\n",
            "未知      19283\n",
            "2005    18924\n",
            "2006    14854\n",
            "        ...  \n",
            "1934        2\n",
            "1944        2\n",
            "1906        1\n",
            "1933        1\n",
            "1914        1\n",
            "Name: count, Length: 74, dtype: int64\n",
            "====================\n"
          ]
        }
      ]
    },
    {
      "cell_type": "markdown",
      "source": [
        "We have numerous Chinese characters to address, including:\n",
        "\n",
        "---\n",
        "\n",
        "**Living Room Column:**\n",
        "- The `livingRoom` column contains entries labeled as `#NAME?`.\n",
        "\n",
        "**Drawing Room and Floor Columns:**\n",
        "- In the `drawingRoom` and `floor` columns, entries like `低 6`, `中 6`, etc., are present.\n",
        "\n",
        "---\n",
        "\n",
        "**Bathroom Column:**\n",
        "- Values in the `bathRoom` column are labeled as `未知`.\n",
        "\n",
        "**Construction Time Column:**\n",
        "- Some entries in the `constructionTime` column are represented as `未知`, similar to the `bathRoom` column.\n",
        "\n",
        "---"
      ],
      "metadata": {
        "id": "O2UM7eFvsFYU"
      }
    },
    {
      "cell_type": "code",
      "source": [
        "# It has 32 rows only\n",
        "df.loc[df['livingRoom']=='#NAME?'].shape"
      ],
      "metadata": {
        "id": "xhbf4Mzjj5KM",
        "colab": {
          "base_uri": "https://localhost:8080/"
        },
        "outputId": "0188a99f-2c98-482d-cd14-fb2c327307a9"
      },
      "execution_count": 9,
      "outputs": [
        {
          "output_type": "execute_result",
          "data": {
            "text/plain": [
              "(32, 23)"
            ]
          },
          "metadata": {},
          "execution_count": 9
        }
      ]
    },
    {
      "cell_type": "code",
      "source": [
        "# Drop this rows\n",
        "rowsToRemove = df.loc[df['livingRoom']=='#NAME?'].index\n",
        "# print(rowsToRemove)\n",
        "\n",
        "# removes those rows\n",
        "df.drop(rowsToRemove,axis=0,inplace=True)\n"
      ],
      "metadata": {
        "id": "AvdWvaXAoAsg"
      },
      "execution_count": 10,
      "outputs": []
    },
    {
      "cell_type": "code",
      "source": [
        "# check there is no entry left\n",
        "df.loc[df['livingRoom']=='#NAME?'].shape"
      ],
      "metadata": {
        "id": "U0XWkBuQoAeg",
        "colab": {
          "base_uri": "https://localhost:8080/"
        },
        "outputId": "f5bd4b70-062d-41ec-e166-5f5349a62fa0"
      },
      "execution_count": 11,
      "outputs": [
        {
          "output_type": "execute_result",
          "data": {
            "text/plain": [
              "(0, 23)"
            ]
          },
          "metadata": {},
          "execution_count": 11
        }
      ]
    },
    {
      "cell_type": "markdown",
      "source": [
        "Create a function named get_null_count that retrieves the count of null values for all columns in a DataFrame.\n",
        "\n",
        "\n"
      ],
      "metadata": {
        "id": "hmg5XpsjXM1f"
      }
    },
    {
      "cell_type": "code",
      "source": [
        "# Prints the count of null values for all columns\n",
        "\n",
        "null_column_name = []\n",
        "\n",
        "def get_null_count():\n",
        "  for i in df.columns:\n",
        "    if df.loc[:,i].isnull().sum() >0:\n",
        "      null_column_name.append(i)\n",
        "      print(f\"{i} has {df.loc[:,i].isnull().sum()} Null Values.\")"
      ],
      "metadata": {
        "collapsed": true,
        "id": "woDBuq0wgdH0"
      },
      "execution_count": 12,
      "outputs": []
    },
    {
      "cell_type": "markdown",
      "source": [
        "* Function to print `single_row_uique` for getting all unique categories in one line for all column (more readable)."
      ],
      "metadata": {
        "id": "-Qb8_wNoXcuZ"
      }
    },
    {
      "cell_type": "code",
      "source": [
        "def single_row_unique_val():\n",
        "  for k in range(df.shape[1]): #produce output of single row\n",
        "      if(df.iloc[:,k].dtype==\"object\"): #choose only those attributes with data type object\n",
        "          print(\"{}: {}\\n\".format(df.columns[k],df.iloc[:,k].unique())) #print unique values from all columns in data set\n",
        "\n",
        "single_row_unique_val()"
      ],
      "metadata": {
        "id": "lZ2xZEJfnB9e",
        "colab": {
          "base_uri": "https://localhost:8080/"
        },
        "outputId": "5569cb1b-c481-4135-8358-94c7c16e12e4"
      },
      "execution_count": 13,
      "outputs": [
        {
          "output_type": "stream",
          "name": "stdout",
          "text": [
            "tradeTime: ['2016-08-09' '2016-07-28' '2016-12-11' ... '2012-01-28' '2011-01-30'\n",
            " '2009-01-11']\n",
            "\n",
            "livingRoom: [2 3 1 4 5 6 9 0 7 8 '1' '4' '3' '2' '5' '7' '9' '6' '0' '8']\n",
            "\n",
            "drawingRoom: [1 2 0 4 3 5 '0' '1' '2' '3' '4' '5']\n",
            "\n",
            "bathRoom: [1 2 3 0 4 5 6 7 '1' '2' '0' '3' '4' '5' '7']\n",
            "\n",
            "floor: ['高 26' '高 22' '中 4' '底 21' '中 6' '中 8' '高 6' '高 10' '中 23' '底 11' '底 3'\n",
            " '高 24' '低 23' '中 19' '高 18' '低 25' '中 12' '中 14' '中 30' '中 27' '中 5'\n",
            " '低 18' '底 28' '中 11' '低 9' '顶 7' '顶 27' '低 6' '中 17' '顶 6' '中 24' '中 15'\n",
            " '底 5' '中 29' '顶 19' '顶 5' '中 9' '低 22' '顶 18' '低 16' '高 13' '高 9' '高 17'\n",
            " '底 6' '中 28' '低 26' '底 15' '高 16' '底 2' '低 7' '中 13' '低 33' '底 14' '高 15'\n",
            " '底 4' '顶 11' '中 32' '顶 16' '底 18' '顶 17' '低 14' '低 10' '底 20' '高 12'\n",
            " '低 31' '低 30' '低 19' '低 12' '中 10' '中 16' '顶 20' '底 19' '中 31' '低 13'\n",
            " '底 10' '高 25' '中 21' '中 20' '高 20' '低 21' '低 24' '顶 4' '高 21' '高 7'\n",
            " '中 22' '底 1' '中 7' '底 8' '顶 15' '中 18' '高 28' '顶 14' '顶 13' '低 20' '底 26'\n",
            " '低 17' '顶 24' '底 23' '顶 3' '顶 21' '底 24' '高 30' '高 11' '底 25' '高 27'\n",
            " '底 9' '低 11' '低 28' '低 15' '顶 26' '低 34' '顶 12' '中 25' '高 8' '底 17'\n",
            " '高 32' '高 19' '底 7' '顶 28' '顶 9' '高 31' '中 26' '顶 2' '顶 8' '底 32' '中 42'\n",
            " '底 30' '低 32' '底 16' '低 3' '底 22' '高 14' '高 23' '底 27' '底 13' '低 27'\n",
            " '顶 23' '低 29' '顶 22' '高 29' '中 34' '顶 25' '高 34' '顶 10' '低 37' '底 12'\n",
            " '未知 6' '顶 32' '低 42' '顶 30' '底 33' '高 42' '低 8' '高 33' '中 33' '顶 29'\n",
            " '底 29' '未知 15' '高 37' '低 36' '低 35' '顶 34' '高 36' '中 37' '中 35' '底 31'\n",
            " '未知 12' '顶 31' '低 63' '未知 21' '底 34' '中 57' '顶 33' '未知 11' '未知 7' '未知 10'\n",
            " '未知 18' '未知 8' '未知 14' '未知 4' '未知 5' '未知 3' '未知 27' '未知 25' '未知 20'\n",
            " '未知 26' '未知 9' '未知 22' '未知 23' '未知 16' '未知 19' '未知 28' '中 36' '未知 17'\n",
            " '未知 13' '低 2' '未知 29' '未知 24' '未知 30' '未知 31' '低 5']\n",
            "\n",
            "constructionTime: ['2005' '2004' '2008' '1960' '1997' '2009' '2006' '1991' '2001' '1990'\n",
            " '2011' '2000' '1998' '2010' '1996' '1993' '2002' '未知' '2012' '1989'\n",
            " '2003' '2007' '1994' '1984' '1992' '2014' '1985' '2013' '1999' '1979'\n",
            " '1981' '1976' '1982' '1975' '1983' '1986' '1995' '1965' '1988' '1987'\n",
            " '2015' '1955' '1980' '1978' '1958' '1970' '1956' '1977' '1964' '1963'\n",
            " '1967' '2016' '1974' '1973' '1959' '1954' '1962' '1966' '1957' '1944'\n",
            " '1972' '1971' '1953' '1968' '1961' '1950' '1952' '1933' '1969' '1906'\n",
            " '1934' '1914']\n",
            "\n"
          ]
        }
      ]
    },
    {
      "cell_type": "markdown",
      "source": [
        "`livinRoom` , `drawingRoom` and `bathRoom` has no Chinese Character but `floor` and `constructionTime` does."
      ],
      "metadata": {
        "id": "_AmQ9iRoyedk"
      }
    },
    {
      "cell_type": "markdown",
      "source": [
        "Approach1: Extract only floor number from `floor` column --> loss of important data\n",
        "\n",
        "---\n",
        "\n",
        "\n",
        "Approach2: The `floor` column contains information about the floor levels in `Chinese`, with the following patterns:\n",
        "\n",
        "* \"高\" (high)\n",
        "* \"中\" (middle)\n",
        "* \"底\" (bottom)\n",
        "* \"低\" (low)\n",
        "* \"顶\" (top)\n",
        "* \"未知\" (unknown)"
      ],
      "metadata": {
        "id": "ra10IR-qi4uL"
      }
    },
    {
      "cell_type": "code",
      "source": [
        "# Approach 1\n",
        "# let's extract the number from the string in floor column\n",
        "# df['floor']= df['floor'].str.extract('(\\d+)',expand=False)"
      ],
      "metadata": {
        "id": "ptl-iReMyXov"
      },
      "execution_count": 14,
      "outputs": []
    },
    {
      "cell_type": "code",
      "source": [
        "# Approach2:\n",
        "\n",
        "import re\n",
        "\n",
        "# Function to translate and parse floor levels\n",
        "def translate_and_parse_floor(floor_str):\n",
        "    if isinstance(floor_str, str):\n",
        "        floor_mapping = {\n",
        "            '高': 'high',\n",
        "            '中': 'middle',\n",
        "            '底': 'bottom',\n",
        "            '低': 'low',\n",
        "            '顶': 'top',\n",
        "            '未知': 'unknown'\n",
        "        }\n",
        "\n",
        "        # Extract the text part\n",
        "        text_part = re.findall(r'[^\\d\\s]+', floor_str)\n",
        "\n",
        "        # Extract the numerical part\n",
        "        num_part = re.findall(r'\\d+', floor_str)\n",
        "\n",
        "        # Translate text part\n",
        "        translated_text = floor_mapping[text_part[0]] if text_part else 'unknown'\n",
        "        # Convert number part to integer\n",
        "        floor_num = int(num_part[0]) if num_part else None\n",
        "\n",
        "        return translated_text, floor_num\n",
        "    else:\n",
        "        return 'unknown', None\n",
        "\n",
        "# Apply the function to the 'floor' column\n",
        "df[['floor_category', 'floor_number']] = df['floor'].apply(lambda x: pd.Series(translate_and_parse_floor(x)))\n",
        "\n",
        "# If needed, encode the 'floor_category' into numerical values\n",
        "floor_category_mapping = {\n",
        "    'bottom': 0,\n",
        "    'low': 1,\n",
        "    'middle': 2,\n",
        "    'high': 3,\n",
        "    'top': 4,\n",
        "    'unknown': -1\n",
        "}\n",
        "\n",
        "df['floor_category_encoded'] = df['floor_category'].map(floor_category_mapping)\n"
      ],
      "metadata": {
        "id": "s_y4pG0wjurY"
      },
      "execution_count": 15,
      "outputs": []
    },
    {
      "cell_type": "code",
      "source": [
        "df.loc[:,['floor_category', 'floor_number' ,'floor_category_encoded','floor']]"
      ],
      "metadata": {
        "id": "kBoIgafnjubi",
        "colab": {
          "base_uri": "https://localhost:8080/",
          "height": 0
        },
        "outputId": "f8a1c45c-7a6b-4d4e-b4c7-365fb8f7279a"
      },
      "execution_count": 16,
      "outputs": [
        {
          "output_type": "execute_result",
          "data": {
            "text/plain": [
              "       floor_category  floor_number  floor_category_encoded floor\n",
              "0                high            26                       3  高 26\n",
              "1                high            22                       3  高 22\n",
              "2              middle             4                       2   中 4\n",
              "3              bottom            21                       0  底 21\n",
              "4              middle             6                       2   中 6\n",
              "...               ...           ...                     ...   ...\n",
              "318846         middle             5                       2   中 5\n",
              "318847         middle            24                       2  中 24\n",
              "318848         middle             7                       2   中 7\n",
              "318849         middle             5                       2   中 5\n",
              "318850         middle            17                       2  中 17\n",
              "\n",
              "[318819 rows x 4 columns]"
            ],
            "text/html": [
              "\n",
              "  <div id=\"df-34e20597-ad29-4a6f-aefe-9a3d19ea5c8c\" class=\"colab-df-container\">\n",
              "    <div>\n",
              "<style scoped>\n",
              "    .dataframe tbody tr th:only-of-type {\n",
              "        vertical-align: middle;\n",
              "    }\n",
              "\n",
              "    .dataframe tbody tr th {\n",
              "        vertical-align: top;\n",
              "    }\n",
              "\n",
              "    .dataframe thead th {\n",
              "        text-align: right;\n",
              "    }\n",
              "</style>\n",
              "<table border=\"1\" class=\"dataframe\">\n",
              "  <thead>\n",
              "    <tr style=\"text-align: right;\">\n",
              "      <th></th>\n",
              "      <th>floor_category</th>\n",
              "      <th>floor_number</th>\n",
              "      <th>floor_category_encoded</th>\n",
              "      <th>floor</th>\n",
              "    </tr>\n",
              "  </thead>\n",
              "  <tbody>\n",
              "    <tr>\n",
              "      <th>0</th>\n",
              "      <td>high</td>\n",
              "      <td>26</td>\n",
              "      <td>3</td>\n",
              "      <td>高 26</td>\n",
              "    </tr>\n",
              "    <tr>\n",
              "      <th>1</th>\n",
              "      <td>high</td>\n",
              "      <td>22</td>\n",
              "      <td>3</td>\n",
              "      <td>高 22</td>\n",
              "    </tr>\n",
              "    <tr>\n",
              "      <th>2</th>\n",
              "      <td>middle</td>\n",
              "      <td>4</td>\n",
              "      <td>2</td>\n",
              "      <td>中 4</td>\n",
              "    </tr>\n",
              "    <tr>\n",
              "      <th>3</th>\n",
              "      <td>bottom</td>\n",
              "      <td>21</td>\n",
              "      <td>0</td>\n",
              "      <td>底 21</td>\n",
              "    </tr>\n",
              "    <tr>\n",
              "      <th>4</th>\n",
              "      <td>middle</td>\n",
              "      <td>6</td>\n",
              "      <td>2</td>\n",
              "      <td>中 6</td>\n",
              "    </tr>\n",
              "    <tr>\n",
              "      <th>...</th>\n",
              "      <td>...</td>\n",
              "      <td>...</td>\n",
              "      <td>...</td>\n",
              "      <td>...</td>\n",
              "    </tr>\n",
              "    <tr>\n",
              "      <th>318846</th>\n",
              "      <td>middle</td>\n",
              "      <td>5</td>\n",
              "      <td>2</td>\n",
              "      <td>中 5</td>\n",
              "    </tr>\n",
              "    <tr>\n",
              "      <th>318847</th>\n",
              "      <td>middle</td>\n",
              "      <td>24</td>\n",
              "      <td>2</td>\n",
              "      <td>中 24</td>\n",
              "    </tr>\n",
              "    <tr>\n",
              "      <th>318848</th>\n",
              "      <td>middle</td>\n",
              "      <td>7</td>\n",
              "      <td>2</td>\n",
              "      <td>中 7</td>\n",
              "    </tr>\n",
              "    <tr>\n",
              "      <th>318849</th>\n",
              "      <td>middle</td>\n",
              "      <td>5</td>\n",
              "      <td>2</td>\n",
              "      <td>中 5</td>\n",
              "    </tr>\n",
              "    <tr>\n",
              "      <th>318850</th>\n",
              "      <td>middle</td>\n",
              "      <td>17</td>\n",
              "      <td>2</td>\n",
              "      <td>中 17</td>\n",
              "    </tr>\n",
              "  </tbody>\n",
              "</table>\n",
              "<p>318819 rows × 4 columns</p>\n",
              "</div>\n",
              "    <div class=\"colab-df-buttons\">\n",
              "\n",
              "  <div class=\"colab-df-container\">\n",
              "    <button class=\"colab-df-convert\" onclick=\"convertToInteractive('df-34e20597-ad29-4a6f-aefe-9a3d19ea5c8c')\"\n",
              "            title=\"Convert this dataframe to an interactive table.\"\n",
              "            style=\"display:none;\">\n",
              "\n",
              "  <svg xmlns=\"http://www.w3.org/2000/svg\" height=\"24px\" viewBox=\"0 -960 960 960\">\n",
              "    <path d=\"M120-120v-720h720v720H120Zm60-500h600v-160H180v160Zm220 220h160v-160H400v160Zm0 220h160v-160H400v160ZM180-400h160v-160H180v160Zm440 0h160v-160H620v160ZM180-180h160v-160H180v160Zm440 0h160v-160H620v160Z\"/>\n",
              "  </svg>\n",
              "    </button>\n",
              "\n",
              "  <style>\n",
              "    .colab-df-container {\n",
              "      display:flex;\n",
              "      gap: 12px;\n",
              "    }\n",
              "\n",
              "    .colab-df-convert {\n",
              "      background-color: #E8F0FE;\n",
              "      border: none;\n",
              "      border-radius: 50%;\n",
              "      cursor: pointer;\n",
              "      display: none;\n",
              "      fill: #1967D2;\n",
              "      height: 32px;\n",
              "      padding: 0 0 0 0;\n",
              "      width: 32px;\n",
              "    }\n",
              "\n",
              "    .colab-df-convert:hover {\n",
              "      background-color: #E2EBFA;\n",
              "      box-shadow: 0px 1px 2px rgba(60, 64, 67, 0.3), 0px 1px 3px 1px rgba(60, 64, 67, 0.15);\n",
              "      fill: #174EA6;\n",
              "    }\n",
              "\n",
              "    .colab-df-buttons div {\n",
              "      margin-bottom: 4px;\n",
              "    }\n",
              "\n",
              "    [theme=dark] .colab-df-convert {\n",
              "      background-color: #3B4455;\n",
              "      fill: #D2E3FC;\n",
              "    }\n",
              "\n",
              "    [theme=dark] .colab-df-convert:hover {\n",
              "      background-color: #434B5C;\n",
              "      box-shadow: 0px 1px 3px 1px rgba(0, 0, 0, 0.15);\n",
              "      filter: drop-shadow(0px 1px 2px rgba(0, 0, 0, 0.3));\n",
              "      fill: #FFFFFF;\n",
              "    }\n",
              "  </style>\n",
              "\n",
              "    <script>\n",
              "      const buttonEl =\n",
              "        document.querySelector('#df-34e20597-ad29-4a6f-aefe-9a3d19ea5c8c button.colab-df-convert');\n",
              "      buttonEl.style.display =\n",
              "        google.colab.kernel.accessAllowed ? 'block' : 'none';\n",
              "\n",
              "      async function convertToInteractive(key) {\n",
              "        const element = document.querySelector('#df-34e20597-ad29-4a6f-aefe-9a3d19ea5c8c');\n",
              "        const dataTable =\n",
              "          await google.colab.kernel.invokeFunction('convertToInteractive',\n",
              "                                                    [key], {});\n",
              "        if (!dataTable) return;\n",
              "\n",
              "        const docLinkHtml = 'Like what you see? Visit the ' +\n",
              "          '<a target=\"_blank\" href=https://colab.research.google.com/notebooks/data_table.ipynb>data table notebook</a>'\n",
              "          + ' to learn more about interactive tables.';\n",
              "        element.innerHTML = '';\n",
              "        dataTable['output_type'] = 'display_data';\n",
              "        await google.colab.output.renderOutput(dataTable, element);\n",
              "        const docLink = document.createElement('div');\n",
              "        docLink.innerHTML = docLinkHtml;\n",
              "        element.appendChild(docLink);\n",
              "      }\n",
              "    </script>\n",
              "  </div>\n",
              "\n",
              "\n",
              "<div id=\"df-fa82e924-857c-4d31-ac3e-d50697b312f0\">\n",
              "  <button class=\"colab-df-quickchart\" onclick=\"quickchart('df-fa82e924-857c-4d31-ac3e-d50697b312f0')\"\n",
              "            title=\"Suggest charts\"\n",
              "            style=\"display:none;\">\n",
              "\n",
              "<svg xmlns=\"http://www.w3.org/2000/svg\" height=\"24px\"viewBox=\"0 0 24 24\"\n",
              "     width=\"24px\">\n",
              "    <g>\n",
              "        <path d=\"M19 3H5c-1.1 0-2 .9-2 2v14c0 1.1.9 2 2 2h14c1.1 0 2-.9 2-2V5c0-1.1-.9-2-2-2zM9 17H7v-7h2v7zm4 0h-2V7h2v10zm4 0h-2v-4h2v4z\"/>\n",
              "    </g>\n",
              "</svg>\n",
              "  </button>\n",
              "\n",
              "<style>\n",
              "  .colab-df-quickchart {\n",
              "      --bg-color: #E8F0FE;\n",
              "      --fill-color: #1967D2;\n",
              "      --hover-bg-color: #E2EBFA;\n",
              "      --hover-fill-color: #174EA6;\n",
              "      --disabled-fill-color: #AAA;\n",
              "      --disabled-bg-color: #DDD;\n",
              "  }\n",
              "\n",
              "  [theme=dark] .colab-df-quickchart {\n",
              "      --bg-color: #3B4455;\n",
              "      --fill-color: #D2E3FC;\n",
              "      --hover-bg-color: #434B5C;\n",
              "      --hover-fill-color: #FFFFFF;\n",
              "      --disabled-bg-color: #3B4455;\n",
              "      --disabled-fill-color: #666;\n",
              "  }\n",
              "\n",
              "  .colab-df-quickchart {\n",
              "    background-color: var(--bg-color);\n",
              "    border: none;\n",
              "    border-radius: 50%;\n",
              "    cursor: pointer;\n",
              "    display: none;\n",
              "    fill: var(--fill-color);\n",
              "    height: 32px;\n",
              "    padding: 0;\n",
              "    width: 32px;\n",
              "  }\n",
              "\n",
              "  .colab-df-quickchart:hover {\n",
              "    background-color: var(--hover-bg-color);\n",
              "    box-shadow: 0 1px 2px rgba(60, 64, 67, 0.3), 0 1px 3px 1px rgba(60, 64, 67, 0.15);\n",
              "    fill: var(--button-hover-fill-color);\n",
              "  }\n",
              "\n",
              "  .colab-df-quickchart-complete:disabled,\n",
              "  .colab-df-quickchart-complete:disabled:hover {\n",
              "    background-color: var(--disabled-bg-color);\n",
              "    fill: var(--disabled-fill-color);\n",
              "    box-shadow: none;\n",
              "  }\n",
              "\n",
              "  .colab-df-spinner {\n",
              "    border: 2px solid var(--fill-color);\n",
              "    border-color: transparent;\n",
              "    border-bottom-color: var(--fill-color);\n",
              "    animation:\n",
              "      spin 1s steps(1) infinite;\n",
              "  }\n",
              "\n",
              "  @keyframes spin {\n",
              "    0% {\n",
              "      border-color: transparent;\n",
              "      border-bottom-color: var(--fill-color);\n",
              "      border-left-color: var(--fill-color);\n",
              "    }\n",
              "    20% {\n",
              "      border-color: transparent;\n",
              "      border-left-color: var(--fill-color);\n",
              "      border-top-color: var(--fill-color);\n",
              "    }\n",
              "    30% {\n",
              "      border-color: transparent;\n",
              "      border-left-color: var(--fill-color);\n",
              "      border-top-color: var(--fill-color);\n",
              "      border-right-color: var(--fill-color);\n",
              "    }\n",
              "    40% {\n",
              "      border-color: transparent;\n",
              "      border-right-color: var(--fill-color);\n",
              "      border-top-color: var(--fill-color);\n",
              "    }\n",
              "    60% {\n",
              "      border-color: transparent;\n",
              "      border-right-color: var(--fill-color);\n",
              "    }\n",
              "    80% {\n",
              "      border-color: transparent;\n",
              "      border-right-color: var(--fill-color);\n",
              "      border-bottom-color: var(--fill-color);\n",
              "    }\n",
              "    90% {\n",
              "      border-color: transparent;\n",
              "      border-bottom-color: var(--fill-color);\n",
              "    }\n",
              "  }\n",
              "</style>\n",
              "\n",
              "  <script>\n",
              "    async function quickchart(key) {\n",
              "      const quickchartButtonEl =\n",
              "        document.querySelector('#' + key + ' button');\n",
              "      quickchartButtonEl.disabled = true;  // To prevent multiple clicks.\n",
              "      quickchartButtonEl.classList.add('colab-df-spinner');\n",
              "      try {\n",
              "        const charts = await google.colab.kernel.invokeFunction(\n",
              "            'suggestCharts', [key], {});\n",
              "      } catch (error) {\n",
              "        console.error('Error during call to suggestCharts:', error);\n",
              "      }\n",
              "      quickchartButtonEl.classList.remove('colab-df-spinner');\n",
              "      quickchartButtonEl.classList.add('colab-df-quickchart-complete');\n",
              "    }\n",
              "    (() => {\n",
              "      let quickchartButtonEl =\n",
              "        document.querySelector('#df-fa82e924-857c-4d31-ac3e-d50697b312f0 button');\n",
              "      quickchartButtonEl.style.display =\n",
              "        google.colab.kernel.accessAllowed ? 'block' : 'none';\n",
              "    })();\n",
              "  </script>\n",
              "</div>\n",
              "\n",
              "    </div>\n",
              "  </div>\n"
            ],
            "application/vnd.google.colaboratory.intrinsic+json": {
              "type": "dataframe"
            }
          },
          "metadata": {},
          "execution_count": 16
        }
      ]
    },
    {
      "cell_type": "markdown",
      "source": [
        "we'll drop `floor` and `floor_category` column after which we'll have `floor_number` and `floor_category_encoded`."
      ],
      "metadata": {
        "id": "qftqXkVOpx2p"
      }
    },
    {
      "cell_type": "code",
      "source": [
        "df.drop(columns=[\"floor\",\"floor_category\"],axis=1,inplace=True)"
      ],
      "metadata": {
        "id": "8UbkLtkLqcvX"
      },
      "execution_count": 17,
      "outputs": []
    },
    {
      "cell_type": "code",
      "source": [
        "df.dtypes"
      ],
      "metadata": {
        "id": "nEQgv9qss24y",
        "colab": {
          "base_uri": "https://localhost:8080/"
        },
        "outputId": "64fba87f-4af3-46ee-c9e1-f57f89aafcab"
      },
      "execution_count": 18,
      "outputs": [
        {
          "output_type": "execute_result",
          "data": {
            "text/plain": [
              "Lng                       float64\n",
              "Lat                       float64\n",
              "tradeTime                  object\n",
              "DOM                       float64\n",
              "followers                   int64\n",
              "totalPrice                float64\n",
              "price                       int64\n",
              "square                    float64\n",
              "livingRoom                 object\n",
              "drawingRoom                object\n",
              "kitchen                     int64\n",
              "bathRoom                   object\n",
              "buildingType              float64\n",
              "constructionTime           object\n",
              "renovationCondition         int64\n",
              "buildingStructure           int64\n",
              "ladderRatio               float64\n",
              "elevator                  float64\n",
              "fiveYearsProperty         float64\n",
              "subway                    float64\n",
              "district                    int64\n",
              "communityAverage          float64\n",
              "floor_number                int64\n",
              "floor_category_encoded      int64\n",
              "dtype: object"
            ]
          },
          "metadata": {},
          "execution_count": 18
        }
      ]
    },
    {
      "cell_type": "markdown",
      "source": [
        "`未知`  is a Chinese term that translates to `unknown` or `unidentified` in English.In the next step, we are replacing it with `nan` in `constructionTime` columns.\n",
        "\n",
        "\n",
        "\n",
        "---\n",
        "\n",
        "* Later we'll impute `missing/unknown/nan` data it."
      ],
      "metadata": {
        "id": "k08PA7VIZxUG"
      }
    },
    {
      "cell_type": "code",
      "source": [
        "df['constructionTime']=df['constructionTime'].str.extract('(\\d+)',expand=False)"
      ],
      "metadata": {
        "id": "_6uncHJP1AIj"
      },
      "execution_count": 19,
      "outputs": []
    },
    {
      "cell_type": "code",
      "source": [
        "single_row_unique_val()"
      ],
      "metadata": {
        "id": "PdAupOWzzPGu",
        "colab": {
          "base_uri": "https://localhost:8080/"
        },
        "outputId": "d1937d8c-c214-41d7-dbf4-3637bb17fc05"
      },
      "execution_count": 20,
      "outputs": [
        {
          "output_type": "stream",
          "name": "stdout",
          "text": [
            "tradeTime: ['2016-08-09' '2016-07-28' '2016-12-11' ... '2012-01-28' '2011-01-30'\n",
            " '2009-01-11']\n",
            "\n",
            "livingRoom: [2 3 1 4 5 6 9 0 7 8 '1' '4' '3' '2' '5' '7' '9' '6' '0' '8']\n",
            "\n",
            "drawingRoom: [1 2 0 4 3 5 '0' '1' '2' '3' '4' '5']\n",
            "\n",
            "bathRoom: [1 2 3 0 4 5 6 7 '1' '2' '0' '3' '4' '5' '7']\n",
            "\n",
            "constructionTime: ['2005' '2004' '2008' '1960' '1997' '2009' '2006' '1991' '2001' '1990'\n",
            " '2011' '2000' '1998' '2010' '1996' '1993' '2002' nan '2012' '1989' '2003'\n",
            " '2007' '1994' '1984' '1992' '2014' '1985' '2013' '1999' '1979' '1981'\n",
            " '1976' '1982' '1975' '1983' '1986' '1995' '1965' '1988' '1987' '2015'\n",
            " '1955' '1980' '1978' '1958' '1970' '1956' '1977' '1964' '1963' '1967'\n",
            " '2016' '1974' '1973' '1959' '1954' '1962' '1966' '1957' '1944' '1972'\n",
            " '1971' '1953' '1968' '1961' '1950' '1952' '1933' '1969' '1906' '1934'\n",
            " '1914']\n",
            "\n"
          ]
        }
      ]
    },
    {
      "cell_type": "markdown",
      "source": [
        "\n",
        "* The `pd.to_numeric` function converts arguments to numeric types, handling various cases like strings of numbers, missing values, etc.\n",
        "\n",
        "* The `errors='coerce'` parameter tells the function to handle any errors in conversion by setting the problematic values to `NaN` (Not a Number).\n"
      ],
      "metadata": {
        "id": "dCmTqLBA1Ibr"
      }
    },
    {
      "cell_type": "code",
      "source": [
        "df.loc[:,\"livingRoom\"] = pd.to_numeric(df.loc[:,\"livingRoom\"], errors='coerce')\n",
        "df.loc[:,\"drawingRoom\"] = pd.to_numeric(df.loc[:,\"drawingRoom\"], errors='coerce')\n",
        "df.loc[:,\"bathRoom\"] = pd.to_numeric(df.loc[:,\"bathRoom\"], errors='coerce')"
      ],
      "metadata": {
        "id": "lipVC3KO1Hf_"
      },
      "execution_count": 21,
      "outputs": []
    },
    {
      "cell_type": "code",
      "source": [
        "single_row_unique_val()"
      ],
      "metadata": {
        "id": "5PZT1zfS4eWK",
        "colab": {
          "base_uri": "https://localhost:8080/"
        },
        "outputId": "09b8e643-79ea-4b5b-bea5-6adfc571b055"
      },
      "execution_count": 22,
      "outputs": [
        {
          "output_type": "stream",
          "name": "stdout",
          "text": [
            "tradeTime: ['2016-08-09' '2016-07-28' '2016-12-11' ... '2012-01-28' '2011-01-30'\n",
            " '2009-01-11']\n",
            "\n",
            "livingRoom: [2 3 1 4 5 6 9 0 7 8]\n",
            "\n",
            "drawingRoom: [1 2 0 4 3 5]\n",
            "\n",
            "bathRoom: [1 2 3 0 4 5 6 7]\n",
            "\n",
            "constructionTime: ['2005' '2004' '2008' '1960' '1997' '2009' '2006' '1991' '2001' '1990'\n",
            " '2011' '2000' '1998' '2010' '1996' '1993' '2002' nan '2012' '1989' '2003'\n",
            " '2007' '1994' '1984' '1992' '2014' '1985' '2013' '1999' '1979' '1981'\n",
            " '1976' '1982' '1975' '1983' '1986' '1995' '1965' '1988' '1987' '2015'\n",
            " '1955' '1980' '1978' '1958' '1970' '1956' '1977' '1964' '1963' '1967'\n",
            " '2016' '1974' '1973' '1959' '1954' '1962' '1966' '1957' '1944' '1972'\n",
            " '1971' '1953' '1968' '1961' '1950' '1952' '1933' '1969' '1906' '1934'\n",
            " '1914']\n",
            "\n"
          ]
        }
      ]
    },
    {
      "cell_type": "markdown",
      "source": [
        "Finally, numbers are present and Chinese characters are gone.\n",
        "\n",
        "\n",
        "---\n",
        "\n",
        "\n",
        "Next step, handle missing values and set dtype appropriately."
      ],
      "metadata": {
        "id": "Gh6F0JjZ4vIH"
      }
    },
    {
      "cell_type": "code",
      "source": [
        "get_null_count()"
      ],
      "metadata": {
        "id": "JTD9xNDjzPCQ",
        "colab": {
          "base_uri": "https://localhost:8080/"
        },
        "outputId": "80967a9d-88f0-4759-b8ce-9ee6bb346f55"
      },
      "execution_count": 23,
      "outputs": [
        {
          "output_type": "stream",
          "name": "stdout",
          "text": [
            "DOM has 157970 Null Values.\n",
            "buildingType has 2021 Null Values.\n",
            "constructionTime has 19283 Null Values.\n",
            "communityAverage has 463 Null Values.\n"
          ]
        }
      ]
    },
    {
      "cell_type": "markdown",
      "source": [
        "Handling Null Values\n",
        "\n",
        "\n",
        "---\n",
        "\n"
      ],
      "metadata": {
        "id": "tBN7gcADmiVH"
      }
    },
    {
      "cell_type": "code",
      "source": [
        "# Understanding the distribution\n",
        "print(\"Descriptive statistics for DOM:\")\n",
        "print(df['DOM'].describe())"
      ],
      "metadata": {
        "id": "yTFP_G2liQ8r",
        "colab": {
          "base_uri": "https://localhost:8080/"
        },
        "outputId": "f5f4a4aa-5c2e-459a-98f4-b2f15bb9b4b3"
      },
      "execution_count": 24,
      "outputs": [
        {
          "output_type": "stream",
          "name": "stdout",
          "text": [
            "Descriptive statistics for DOM:\n",
            "count    160849.000000\n",
            "mean         28.826664\n",
            "std          50.240049\n",
            "min           1.000000\n",
            "25%           1.000000\n",
            "50%           6.000000\n",
            "75%          37.000000\n",
            "max        1677.000000\n",
            "Name: DOM, dtype: float64\n"
          ]
        }
      ]
    },
    {
      "cell_type": "markdown",
      "source": [
        "We can see the distribution has a large range (1 to 1677 days), with a mean of approximately 28.83 days and a median(50%) of 6 days. The high standard deviation (50.24) indicates significant variability.\n",
        "\n",
        "To fill the null values in the DOM column, we can use the median (6 days) because it's less affected by outliers compared to the mean(around 29 days)."
      ],
      "metadata": {
        "id": "8wXT7oeYln6w"
      }
    },
    {
      "cell_type": "code",
      "source": [
        "# Filling null values with the median\n",
        "median_dom = df['DOM'].median()\n",
        "df['DOM'].fillna(median_dom, inplace=True)\n",
        "\n",
        "# Verify the imputation\n",
        "print(\"\\nDescriptive statistics after imputation:\")\n",
        "print(df['DOM'].describe())\n"
      ],
      "metadata": {
        "id": "xD9e5TABiQ4k",
        "colab": {
          "base_uri": "https://localhost:8080/"
        },
        "outputId": "85d55e39-a69f-428b-8e24-f16346856769"
      },
      "execution_count": 25,
      "outputs": [
        {
          "output_type": "stream",
          "name": "stdout",
          "text": [
            "\n",
            "Descriptive statistics after imputation:\n",
            "count    318819.000000\n",
            "mean         17.516396\n",
            "std          37.465686\n",
            "min           1.000000\n",
            "25%           6.000000\n",
            "50%           6.000000\n",
            "75%           7.000000\n",
            "max        1677.000000\n",
            "Name: DOM, dtype: float64\n"
          ]
        }
      ]
    },
    {
      "cell_type": "code",
      "source": [
        "get_null_count()"
      ],
      "metadata": {
        "id": "iqtmUmtqmPaL",
        "colab": {
          "base_uri": "https://localhost:8080/"
        },
        "outputId": "891243b5-dda1-4ed8-ae09-a616ae66cb0a"
      },
      "execution_count": 26,
      "outputs": [
        {
          "output_type": "stream",
          "name": "stdout",
          "text": [
            "buildingType has 2021 Null Values.\n",
            "constructionTime has 19283 Null Values.\n",
            "communityAverage has 463 Null Values.\n"
          ]
        }
      ]
    },
    {
      "cell_type": "markdown",
      "source": [
        "Now, for `buildingType` column"
      ],
      "metadata": {
        "id": "tVvVRMFipcyL"
      }
    },
    {
      "cell_type": "code",
      "source": [
        "# Understanding the distribution\n",
        "print(df['buildingType'].value_counts())"
      ],
      "metadata": {
        "id": "v465OIwQmd9w",
        "colab": {
          "base_uri": "https://localhost:8080/"
        },
        "outputId": "d6b13e69-664b-484d-e63f-32b7002d6a8e"
      },
      "execution_count": 27,
      "outputs": [
        {
          "output_type": "stream",
          "name": "stdout",
          "text": [
            "buildingType\n",
            "4.0    172405\n",
            "1.0     84541\n",
            "3.0     59715\n",
            "2.0       137\n",
            "Name: count, dtype: int64\n"
          ]
        }
      ]
    },
    {
      "cell_type": "code",
      "source": [
        "df['buildingType'].median()"
      ],
      "metadata": {
        "id": "RWS3RzuloH2s",
        "colab": {
          "base_uri": "https://localhost:8080/"
        },
        "outputId": "442cbad8-c6a3-4f59-e0ab-017ab1d4d69a"
      },
      "execution_count": 28,
      "outputs": [
        {
          "output_type": "execute_result",
          "data": {
            "text/plain": [
              "4.0"
            ]
          },
          "metadata": {},
          "execution_count": 28
        }
      ]
    },
    {
      "cell_type": "markdown",
      "source": [
        "Given that the `buildingType` column is an ordinal or categorical variable with a specific set of possible values (1, 2, 3, 4), and considering the median (4) is more representative of the central tendency without being affected by outliers or skewness, median imputation is often more appropriate for categorical data.\n",
        "\n"
      ],
      "metadata": {
        "id": "UO6G2kePn-ox"
      }
    },
    {
      "cell_type": "code",
      "source": [
        "# Filling null values with the median\n",
        "median_bt = df['buildingType'].median()\n",
        "df['buildingType'].fillna(median_bt, inplace=True)\n"
      ],
      "metadata": {
        "id": "woumOqwDm33d"
      },
      "execution_count": 29,
      "outputs": []
    },
    {
      "cell_type": "code",
      "source": [
        "get_null_count()"
      ],
      "metadata": {
        "id": "2FLtrSOoouob",
        "colab": {
          "base_uri": "https://localhost:8080/"
        },
        "outputId": "4c9effeb-9b64-40c1-a8e2-2755a4c6efd2"
      },
      "execution_count": 30,
      "outputs": [
        {
          "output_type": "stream",
          "name": "stdout",
          "text": [
            "constructionTime has 19283 Null Values.\n",
            "communityAverage has 463 Null Values.\n"
          ]
        }
      ]
    },
    {
      "cell_type": "markdown",
      "source": [
        "Now, for `constructionTime` column"
      ],
      "metadata": {
        "id": "sCMdl5G2pNpP"
      }
    },
    {
      "cell_type": "code",
      "source": [
        "# Understanding the distribution\n",
        "print(df['constructionTime'].value_counts())"
      ],
      "metadata": {
        "id": "t-FS64MXozPv",
        "colab": {
          "base_uri": "https://localhost:8080/"
        },
        "outputId": "8983d44f-da87-4b2c-8ece-5e553e81a992"
      },
      "execution_count": 31,
      "outputs": [
        {
          "output_type": "stream",
          "name": "stdout",
          "text": [
            "constructionTime\n",
            "2004    21145\n",
            "2003    19409\n",
            "2005    18924\n",
            "2006    14854\n",
            "2007    14213\n",
            "        ...  \n",
            "1944        2\n",
            "1934        2\n",
            "1933        1\n",
            "1906        1\n",
            "1914        1\n",
            "Name: count, Length: 71, dtype: int64\n"
          ]
        }
      ]
    },
    {
      "cell_type": "markdown",
      "source": [
        "Given the `constructionTime` column, you are dealing with a categorical variable representing the year of construction. The counts indicate the frequency of properties built in each year. When deciding how to impute missing values in this context, the most common practice is to use the `mode` (the most frequent value).\n",
        "\n"
      ],
      "metadata": {
        "id": "J2srgJXHq0ag"
      }
    },
    {
      "cell_type": "code",
      "source": [
        "# Finding the mode of constructionTime\n",
        "mode_ct = df['constructionTime'].mode()[0]\n",
        "# print(f\"\\nMode of constructionTime: {mode_ct}\")\n",
        "\n",
        "# Filling null values with the mode\n",
        "df['constructionTime'].fillna(mode_ct, inplace=True)\n"
      ],
      "metadata": {
        "id": "qcHnV4_qpKlv"
      },
      "execution_count": 32,
      "outputs": []
    },
    {
      "cell_type": "code",
      "source": [
        "get_null_count()"
      ],
      "metadata": {
        "id": "9mYc5KMtrNgj",
        "colab": {
          "base_uri": "https://localhost:8080/"
        },
        "outputId": "71ffc993-f944-46dd-d0c8-2020eac5f7eb"
      },
      "execution_count": 33,
      "outputs": [
        {
          "output_type": "stream",
          "name": "stdout",
          "text": [
            "communityAverage has 463 Null Values.\n"
          ]
        }
      ]
    },
    {
      "cell_type": "markdown",
      "source": [
        "`communityAverage` is left only."
      ],
      "metadata": {
        "id": "L8RiYtMlr3_I"
      }
    },
    {
      "cell_type": "code",
      "source": [
        "# Understanding the distribution\n",
        "print(df['communityAverage'].value_counts())"
      ],
      "metadata": {
        "id": "CVpYC-7Hr0hx",
        "colab": {
          "base_uri": "https://localhost:8080/"
        },
        "outputId": "3c2ae937-2403-441c-e29a-026647dd9e57"
      },
      "execution_count": 34,
      "outputs": [
        {
          "output_type": "stream",
          "name": "stdout",
          "text": [
            "communityAverage\n",
            "92360.0     1525\n",
            "54263.0     1499\n",
            "40934.0     1350\n",
            "50205.0     1331\n",
            "64222.0     1247\n",
            "            ... \n",
            "37270.0        1\n",
            "62427.0        1\n",
            "80732.0        1\n",
            "41678.0        1\n",
            "130768.0       1\n",
            "Name: count, Length: 4072, dtype: int64\n"
          ]
        }
      ]
    },
    {
      "cell_type": "markdown",
      "source": [
        "For a continuous variable like `communityAverage`, common strategies for imputing missing values include using the mean or mediann imputation would typically be more appropriate than mode ,as the mode might not be representative of the central tendency in a highly continuous dataset.\n",
        "\n",
        "we'll use `median`"
      ],
      "metadata": {
        "id": "bq7FfAEdsrCr"
      }
    },
    {
      "cell_type": "code",
      "source": [
        "# Filling null values with the median\n",
        "median_ca = df['communityAverage'].median()\n",
        "df['communityAverage'].fillna(median_ca, inplace=True)"
      ],
      "metadata": {
        "id": "8V99_fhrsERM"
      },
      "execution_count": 35,
      "outputs": []
    },
    {
      "cell_type": "code",
      "source": [
        "get_null_count()"
      ],
      "metadata": {
        "id": "btXvin_9tgJ2"
      },
      "execution_count": 36,
      "outputs": []
    },
    {
      "cell_type": "markdown",
      "source": [
        "Setting up datatype\n",
        "\n",
        "\n",
        "---\n",
        "\n"
      ],
      "metadata": {
        "id": "beYNIEUWzZ9f"
      }
    },
    {
      "cell_type": "code",
      "source": [
        "df.info()"
      ],
      "metadata": {
        "id": "3j8RFN2jxqz-",
        "colab": {
          "base_uri": "https://localhost:8080/"
        },
        "outputId": "fdc43830-a443-453f-ca4b-b4898d74245b"
      },
      "execution_count": 37,
      "outputs": [
        {
          "output_type": "stream",
          "name": "stdout",
          "text": [
            "<class 'pandas.core.frame.DataFrame'>\n",
            "Index: 318819 entries, 0 to 318850\n",
            "Data columns (total 24 columns):\n",
            " #   Column                  Non-Null Count   Dtype  \n",
            "---  ------                  --------------   -----  \n",
            " 0   Lng                     318819 non-null  float64\n",
            " 1   Lat                     318819 non-null  float64\n",
            " 2   tradeTime               318819 non-null  object \n",
            " 3   DOM                     318819 non-null  float64\n",
            " 4   followers               318819 non-null  int64  \n",
            " 5   totalPrice              318819 non-null  float64\n",
            " 6   price                   318819 non-null  int64  \n",
            " 7   square                  318819 non-null  float64\n",
            " 8   livingRoom              318819 non-null  object \n",
            " 9   drawingRoom             318819 non-null  object \n",
            " 10  kitchen                 318819 non-null  int64  \n",
            " 11  bathRoom                318819 non-null  object \n",
            " 12  buildingType            318819 non-null  float64\n",
            " 13  constructionTime        318819 non-null  object \n",
            " 14  renovationCondition     318819 non-null  int64  \n",
            " 15  buildingStructure       318819 non-null  int64  \n",
            " 16  ladderRatio             318819 non-null  float64\n",
            " 17  elevator                318819 non-null  float64\n",
            " 18  fiveYearsProperty       318819 non-null  float64\n",
            " 19  subway                  318819 non-null  float64\n",
            " 20  district                318819 non-null  int64  \n",
            " 21  communityAverage        318819 non-null  float64\n",
            " 22  floor_number            318819 non-null  int64  \n",
            " 23  floor_category_encoded  318819 non-null  int64  \n",
            "dtypes: float64(11), int64(8), object(5)\n",
            "memory usage: 60.8+ MB\n"
          ]
        }
      ]
    },
    {
      "cell_type": "code",
      "source": [
        "df['tradeTime'] = pd.to_datetime(df['tradeTime'])"
      ],
      "metadata": {
        "id": "JdFVtzRDzFTV"
      },
      "execution_count": 38,
      "outputs": []
    },
    {
      "cell_type": "code",
      "source": [
        "# Extract additional features\n",
        "df['year'] = df['tradeTime'].dt.year\n",
        "df['month'] = df['tradeTime'].dt.month\n",
        "df['day'] = df['tradeTime'].dt.day\n",
        "df['day_of_week'] = df['tradeTime'].dt.dayofweek\n",
        "df['quarter'] = df['tradeTime'].dt.quarter"
      ],
      "metadata": {
        "collapsed": true,
        "id": "IzcCaHaGweTP"
      },
      "execution_count": 39,
      "outputs": []
    },
    {
      "cell_type": "code",
      "source": [
        "df.drop(columns=['tradeTime'],axis=1,inplace=True)"
      ],
      "metadata": {
        "id": "b7-af_vSuB8j"
      },
      "execution_count": 40,
      "outputs": []
    },
    {
      "cell_type": "code",
      "source": [
        "dtype_mapping = {\n",
        "    \"DOM\": \"int64\",\n",
        "    \"livingRoom\": \"int64\",\n",
        "    \"drawingRoom\": \"int64\",\n",
        "    \"bathRoom\": \"int64\",\n",
        "    \"buildingType\": \"object\",\n",
        "    \"constructionTime\": \"int64\",\n",
        "    \"renovationCondition\": \"object\",\n",
        "    \"buildingStructure\": \"object\",\n",
        "    \"elevator\": \"object\",\n",
        "    \"fiveYearsProperty\": \"object\",\n",
        "    \"subway\": \"object\",\n",
        "    \"district\": \"int64\"\n",
        "}\n",
        "\n",
        "# Convert columns to the specified data types\n",
        "df = df.astype(dtype_mapping, errors='ignore')\n"
      ],
      "metadata": {
        "id": "qVJAvsgLxm-b"
      },
      "execution_count": 41,
      "outputs": []
    },
    {
      "cell_type": "code",
      "source": [
        "df.dtypes"
      ],
      "metadata": {
        "id": "26w7jGssyR2t",
        "colab": {
          "base_uri": "https://localhost:8080/"
        },
        "collapsed": true,
        "outputId": "71524f3d-22c0-4be6-aa69-43885fc7939a"
      },
      "execution_count": 42,
      "outputs": [
        {
          "output_type": "execute_result",
          "data": {
            "text/plain": [
              "Lng                       float64\n",
              "Lat                       float64\n",
              "DOM                         int64\n",
              "followers                   int64\n",
              "totalPrice                float64\n",
              "price                       int64\n",
              "square                    float64\n",
              "livingRoom                  int64\n",
              "drawingRoom                 int64\n",
              "kitchen                     int64\n",
              "bathRoom                    int64\n",
              "buildingType               object\n",
              "constructionTime            int64\n",
              "renovationCondition        object\n",
              "buildingStructure          object\n",
              "ladderRatio               float64\n",
              "elevator                   object\n",
              "fiveYearsProperty          object\n",
              "subway                     object\n",
              "district                    int64\n",
              "communityAverage          float64\n",
              "floor_number                int64\n",
              "floor_category_encoded      int64\n",
              "year                        int32\n",
              "month                       int32\n",
              "day                         int32\n",
              "day_of_week                 int32\n",
              "quarter                     int32\n",
              "dtype: object"
            ]
          },
          "metadata": {},
          "execution_count": 42
        }
      ]
    },
    {
      "cell_type": "markdown",
      "source": [
        "####  Step 3: Exporting DataFrame to a CSV file\n",
        "\n",
        "\n",
        "---\n",
        "\n",
        "Due to the possibility of unexpected disconnections in Google Colab, it's imperative to export our DataFrame and reload it to resume work from the last saved state, rather than repeating previous steps.\n",
        "\n",
        "\n",
        "\n",
        "> **Note:**\n",
        ">\n",
        "> When importing data from a CSV file and creating a DataFrame, certain column data types may be automatically converted from `object` to `int64`. To maintain the original data types, it's necessary to remap them accordingly.\n"
      ],
      "metadata": {
        "id": "CpvyQLDGc1e8"
      }
    },
    {
      "cell_type": "code",
      "source": [
        "# Exporting DataFrame to a CSV file\n",
        "df.to_csv('cleaned_data.csv', index=False)"
      ],
      "metadata": {
        "id": "Xnk2KqVZbYaj"
      },
      "execution_count": 43,
      "outputs": []
    },
    {
      "cell_type": "markdown",
      "source": [
        "#### Step 4: Creating Data Frame from our exported file\n",
        "\n",
        "\n",
        "---\n",
        "- Utilizing the `csv` file we have meticulously cleaned and stored, named `cleaned_data.csv`.\n",
        "- Mapping columns to their specified data types.\n",
        "\n"
      ],
      "metadata": {
        "id": "9Cjnzi-WoDLv"
      }
    },
    {
      "cell_type": "code",
      "source": [
        "import pandas as pd\n",
        "\n",
        "cleaned_df = pd.read_csv('/content/cleaned_data.csv')"
      ],
      "metadata": {
        "id": "fKuoznXxncaD"
      },
      "execution_count": 44,
      "outputs": []
    },
    {
      "cell_type": "code",
      "source": [
        "dtype_mapping2 = {\n",
        "    \"DOM\": \"int64\",\n",
        "    \"livingRoom\": \"int64\",\n",
        "    \"drawingRoom\": \"int64\",\n",
        "    \"bathRoom\": \"int64\",\n",
        "    \"buildingType\": \"object\",\n",
        "    \"constructionTime\": \"int64\",\n",
        "    \"renovationCondition\": \"object\",\n",
        "    \"buildingStructure\": \"object\",\n",
        "    \"elevator\": \"object\",\n",
        "    \"fiveYearsProperty\": \"object\",\n",
        "    \"subway\": \"object\",\n",
        "}\n",
        "\n",
        "# Convert columns to the specified data types\n",
        "cleaned_df = cleaned_df.astype(dtype_mapping2, errors='ignore')\n"
      ],
      "metadata": {
        "id": "SWeXTN3FsZFN"
      },
      "execution_count": 45,
      "outputs": []
    },
    {
      "cell_type": "code",
      "source": [
        "cleaned_df.info()"
      ],
      "metadata": {
        "colab": {
          "base_uri": "https://localhost:8080/"
        },
        "collapsed": true,
        "id": "knA0vslioFht",
        "outputId": "7b3adfc6-3a40-49dc-e380-a80a6a0d6b91"
      },
      "execution_count": 46,
      "outputs": [
        {
          "output_type": "stream",
          "name": "stdout",
          "text": [
            "<class 'pandas.core.frame.DataFrame'>\n",
            "RangeIndex: 318819 entries, 0 to 318818\n",
            "Data columns (total 28 columns):\n",
            " #   Column                  Non-Null Count   Dtype  \n",
            "---  ------                  --------------   -----  \n",
            " 0   Lng                     318819 non-null  float64\n",
            " 1   Lat                     318819 non-null  float64\n",
            " 2   DOM                     318819 non-null  int64  \n",
            " 3   followers               318819 non-null  int64  \n",
            " 4   totalPrice              318819 non-null  float64\n",
            " 5   price                   318819 non-null  int64  \n",
            " 6   square                  318819 non-null  float64\n",
            " 7   livingRoom              318819 non-null  int64  \n",
            " 8   drawingRoom             318819 non-null  int64  \n",
            " 9   kitchen                 318819 non-null  int64  \n",
            " 10  bathRoom                318819 non-null  int64  \n",
            " 11  buildingType            318819 non-null  object \n",
            " 12  constructionTime        318819 non-null  int64  \n",
            " 13  renovationCondition     318819 non-null  object \n",
            " 14  buildingStructure       318819 non-null  object \n",
            " 15  ladderRatio             318819 non-null  float64\n",
            " 16  elevator                318819 non-null  object \n",
            " 17  fiveYearsProperty       318819 non-null  object \n",
            " 18  subway                  318819 non-null  object \n",
            " 19  district                318819 non-null  int64  \n",
            " 20  communityAverage        318819 non-null  float64\n",
            " 21  floor_number            318819 non-null  int64  \n",
            " 22  floor_category_encoded  318819 non-null  int64  \n",
            " 23  year                    318819 non-null  int64  \n",
            " 24  month                   318819 non-null  int64  \n",
            " 25  day                     318819 non-null  int64  \n",
            " 26  day_of_week             318819 non-null  int64  \n",
            " 27  quarter                 318819 non-null  int64  \n",
            "dtypes: float64(6), int64(16), object(6)\n",
            "memory usage: 68.1+ MB\n"
          ]
        }
      ]
    },
    {
      "cell_type": "markdown",
      "source": [
        "####  Step 5: Data Preprocessing\n",
        "\n",
        "\n",
        "---\n",
        "\n",
        "\n",
        "- Applied transformation based on skewness\n",
        "- Removed outliers using the IQR method\n",
        "- Applied StandardScaler and One-Hot Encoding"
      ],
      "metadata": {
        "id": "vdZaBg-Hghg9"
      }
    },
    {
      "cell_type": "code",
      "source": [
        "import numpy as np\n",
        "from scipy.stats import skew\n",
        "from sklearn.preprocessing import PowerTransformer\n",
        "\n",
        "def transform_skewed_features(df, numeric_columns, skew_threshold=0.5):\n",
        "\n",
        "    transformed_df = df.copy()\n",
        "\n",
        "    for col in numeric_columns:\n",
        "        skewness = skew(df[col])\n",
        "\n",
        "        # Apply Yeo-Johnson transformation for positively skewed features\n",
        "        if skewness > skew_threshold:\n",
        "            transformer = PowerTransformer(method='yeo-johnson')\n",
        "            transformed_df[col] = transformer.fit_transform(df[[col]])\n",
        "\n",
        "        # Apply square root transformation for negatively skewed features\n",
        "        elif skewness < -skew_threshold:\n",
        "            transformed_df[col] = np.sqrt(df[col])\n",
        "\n",
        "    return transformed_df\n"
      ],
      "metadata": {
        "id": "BZ8aMw4e6nXo"
      },
      "execution_count": 47,
      "outputs": []
    },
    {
      "cell_type": "code",
      "source": [
        "from sklearn.preprocessing import OneHotEncoder, StandardScaler\n",
        "\n",
        "def preprocess_df(df):\n",
        "\n",
        "    numeric_columns = df.select_dtypes(include=[np.number]).columns.tolist()\n",
        "    categorical_columns = df.select_dtypes(include=['object']).columns.tolist()\n",
        "\n",
        "    # print(\"Categories columns: \",categorical_columns)\n",
        "\n",
        "    # Outlier Handling using IQR method\n",
        "    def handle_outliers(df, columns):\n",
        "        for col in columns:\n",
        "            Q1 = df[col].quantile(0.25)\n",
        "            Q3 = df[col].quantile(0.75)\n",
        "            IQR = Q3 - Q1\n",
        "            lower_bound = Q1 - 1.5 * IQR\n",
        "            upper_bound = Q3 + 1.5 * IQR\n",
        "            df[col] = np.where(df[col] < lower_bound, lower_bound, df[col])\n",
        "            df[col] = np.where(df[col] > upper_bound, upper_bound, df[col])\n",
        "        return df\n",
        "\n",
        "    # Apply outlier handling to numeric columns\n",
        "    df = handle_outliers(df, numeric_columns)\n",
        "\n",
        "    # Transform skewd features in order to reduce skewness\n",
        "    df = transform_skewed_features(df, numeric_columns)\n",
        "\n",
        "    # Normalization using StandardScaler\n",
        "    scaler = StandardScaler()\n",
        "    df[numeric_columns] = scaler.fit_transform(df[numeric_columns])\n",
        "\n",
        "    # One-hot encode categorical columns\n",
        "    encoder = OneHotEncoder(drop='first', sparse_output=False)\n",
        "    encoded_categorical = encoder.fit_transform(df[categorical_columns])\n",
        "    encoded_categorical_df = pd.DataFrame(encoded_categorical, columns=encoder.get_feature_names_out(categorical_columns))\n",
        "\n",
        "    # Combine numeric and encoded categorical columns\n",
        "    df_encoded = pd.concat([df[numeric_columns].reset_index(drop=True), encoded_categorical_df.reset_index(drop=True)], axis=1)\n",
        "\n",
        "    return df_encoded,scaler\n",
        "\n",
        "# These inputs are feature selected from `select_feature` step.\n",
        "selected_inputs = cleaned_df.loc[:,['totalPrice', 'square', 'communityAverage', 'year']]\n",
        "\n",
        "\n",
        "preprocessed_df,scalar = preprocess_df(selected_inputs)\n",
        "preprocessed_df\n"
      ],
      "metadata": {
        "colab": {
          "base_uri": "https://localhost:8080/",
          "height": 0
        },
        "id": "eCgH0mzBpL3u",
        "outputId": "4b67bc57-e659-4d20-f8d2-398fd82608b2"
      },
      "execution_count": 48,
      "outputs": [
        {
          "output_type": "execute_result",
          "data": {
            "text/plain": [
              "        totalPrice    square  communityAverage      year\n",
              "0         0.612197  1.425287         -0.175315  0.734184\n",
              "1         1.321467  1.452784          0.564401  0.734184\n",
              "2         1.972446  1.948876         -0.654749  0.734184\n",
              "3        -0.044744  1.484701         -0.456213  0.734184\n",
              "4         0.495037  0.164939          0.165364  0.734184\n",
              "...            ...       ...               ...       ...\n",
              "318814    0.267939  1.948876         -1.575653  0.734184\n",
              "318815   -1.678101 -2.015271         -0.273887  0.734184\n",
              "318816    0.318158  0.773322         -0.738738  0.734184\n",
              "318817    1.851848  1.948876         -0.241722  0.734184\n",
              "318818    0.781998  0.511283         -0.273887  0.734184\n",
              "\n",
              "[318819 rows x 4 columns]"
            ],
            "text/html": [
              "\n",
              "  <div id=\"df-84dca424-b436-493a-befc-75e01a840b75\" class=\"colab-df-container\">\n",
              "    <div>\n",
              "<style scoped>\n",
              "    .dataframe tbody tr th:only-of-type {\n",
              "        vertical-align: middle;\n",
              "    }\n",
              "\n",
              "    .dataframe tbody tr th {\n",
              "        vertical-align: top;\n",
              "    }\n",
              "\n",
              "    .dataframe thead th {\n",
              "        text-align: right;\n",
              "    }\n",
              "</style>\n",
              "<table border=\"1\" class=\"dataframe\">\n",
              "  <thead>\n",
              "    <tr style=\"text-align: right;\">\n",
              "      <th></th>\n",
              "      <th>totalPrice</th>\n",
              "      <th>square</th>\n",
              "      <th>communityAverage</th>\n",
              "      <th>year</th>\n",
              "    </tr>\n",
              "  </thead>\n",
              "  <tbody>\n",
              "    <tr>\n",
              "      <th>0</th>\n",
              "      <td>0.612197</td>\n",
              "      <td>1.425287</td>\n",
              "      <td>-0.175315</td>\n",
              "      <td>0.734184</td>\n",
              "    </tr>\n",
              "    <tr>\n",
              "      <th>1</th>\n",
              "      <td>1.321467</td>\n",
              "      <td>1.452784</td>\n",
              "      <td>0.564401</td>\n",
              "      <td>0.734184</td>\n",
              "    </tr>\n",
              "    <tr>\n",
              "      <th>2</th>\n",
              "      <td>1.972446</td>\n",
              "      <td>1.948876</td>\n",
              "      <td>-0.654749</td>\n",
              "      <td>0.734184</td>\n",
              "    </tr>\n",
              "    <tr>\n",
              "      <th>3</th>\n",
              "      <td>-0.044744</td>\n",
              "      <td>1.484701</td>\n",
              "      <td>-0.456213</td>\n",
              "      <td>0.734184</td>\n",
              "    </tr>\n",
              "    <tr>\n",
              "      <th>4</th>\n",
              "      <td>0.495037</td>\n",
              "      <td>0.164939</td>\n",
              "      <td>0.165364</td>\n",
              "      <td>0.734184</td>\n",
              "    </tr>\n",
              "    <tr>\n",
              "      <th>...</th>\n",
              "      <td>...</td>\n",
              "      <td>...</td>\n",
              "      <td>...</td>\n",
              "      <td>...</td>\n",
              "    </tr>\n",
              "    <tr>\n",
              "      <th>318814</th>\n",
              "      <td>0.267939</td>\n",
              "      <td>1.948876</td>\n",
              "      <td>-1.575653</td>\n",
              "      <td>0.734184</td>\n",
              "    </tr>\n",
              "    <tr>\n",
              "      <th>318815</th>\n",
              "      <td>-1.678101</td>\n",
              "      <td>-2.015271</td>\n",
              "      <td>-0.273887</td>\n",
              "      <td>0.734184</td>\n",
              "    </tr>\n",
              "    <tr>\n",
              "      <th>318816</th>\n",
              "      <td>0.318158</td>\n",
              "      <td>0.773322</td>\n",
              "      <td>-0.738738</td>\n",
              "      <td>0.734184</td>\n",
              "    </tr>\n",
              "    <tr>\n",
              "      <th>318817</th>\n",
              "      <td>1.851848</td>\n",
              "      <td>1.948876</td>\n",
              "      <td>-0.241722</td>\n",
              "      <td>0.734184</td>\n",
              "    </tr>\n",
              "    <tr>\n",
              "      <th>318818</th>\n",
              "      <td>0.781998</td>\n",
              "      <td>0.511283</td>\n",
              "      <td>-0.273887</td>\n",
              "      <td>0.734184</td>\n",
              "    </tr>\n",
              "  </tbody>\n",
              "</table>\n",
              "<p>318819 rows × 4 columns</p>\n",
              "</div>\n",
              "    <div class=\"colab-df-buttons\">\n",
              "\n",
              "  <div class=\"colab-df-container\">\n",
              "    <button class=\"colab-df-convert\" onclick=\"convertToInteractive('df-84dca424-b436-493a-befc-75e01a840b75')\"\n",
              "            title=\"Convert this dataframe to an interactive table.\"\n",
              "            style=\"display:none;\">\n",
              "\n",
              "  <svg xmlns=\"http://www.w3.org/2000/svg\" height=\"24px\" viewBox=\"0 -960 960 960\">\n",
              "    <path d=\"M120-120v-720h720v720H120Zm60-500h600v-160H180v160Zm220 220h160v-160H400v160Zm0 220h160v-160H400v160ZM180-400h160v-160H180v160Zm440 0h160v-160H620v160ZM180-180h160v-160H180v160Zm440 0h160v-160H620v160Z\"/>\n",
              "  </svg>\n",
              "    </button>\n",
              "\n",
              "  <style>\n",
              "    .colab-df-container {\n",
              "      display:flex;\n",
              "      gap: 12px;\n",
              "    }\n",
              "\n",
              "    .colab-df-convert {\n",
              "      background-color: #E8F0FE;\n",
              "      border: none;\n",
              "      border-radius: 50%;\n",
              "      cursor: pointer;\n",
              "      display: none;\n",
              "      fill: #1967D2;\n",
              "      height: 32px;\n",
              "      padding: 0 0 0 0;\n",
              "      width: 32px;\n",
              "    }\n",
              "\n",
              "    .colab-df-convert:hover {\n",
              "      background-color: #E2EBFA;\n",
              "      box-shadow: 0px 1px 2px rgba(60, 64, 67, 0.3), 0px 1px 3px 1px rgba(60, 64, 67, 0.15);\n",
              "      fill: #174EA6;\n",
              "    }\n",
              "\n",
              "    .colab-df-buttons div {\n",
              "      margin-bottom: 4px;\n",
              "    }\n",
              "\n",
              "    [theme=dark] .colab-df-convert {\n",
              "      background-color: #3B4455;\n",
              "      fill: #D2E3FC;\n",
              "    }\n",
              "\n",
              "    [theme=dark] .colab-df-convert:hover {\n",
              "      background-color: #434B5C;\n",
              "      box-shadow: 0px 1px 3px 1px rgba(0, 0, 0, 0.15);\n",
              "      filter: drop-shadow(0px 1px 2px rgba(0, 0, 0, 0.3));\n",
              "      fill: #FFFFFF;\n",
              "    }\n",
              "  </style>\n",
              "\n",
              "    <script>\n",
              "      const buttonEl =\n",
              "        document.querySelector('#df-84dca424-b436-493a-befc-75e01a840b75 button.colab-df-convert');\n",
              "      buttonEl.style.display =\n",
              "        google.colab.kernel.accessAllowed ? 'block' : 'none';\n",
              "\n",
              "      async function convertToInteractive(key) {\n",
              "        const element = document.querySelector('#df-84dca424-b436-493a-befc-75e01a840b75');\n",
              "        const dataTable =\n",
              "          await google.colab.kernel.invokeFunction('convertToInteractive',\n",
              "                                                    [key], {});\n",
              "        if (!dataTable) return;\n",
              "\n",
              "        const docLinkHtml = 'Like what you see? Visit the ' +\n",
              "          '<a target=\"_blank\" href=https://colab.research.google.com/notebooks/data_table.ipynb>data table notebook</a>'\n",
              "          + ' to learn more about interactive tables.';\n",
              "        element.innerHTML = '';\n",
              "        dataTable['output_type'] = 'display_data';\n",
              "        await google.colab.output.renderOutput(dataTable, element);\n",
              "        const docLink = document.createElement('div');\n",
              "        docLink.innerHTML = docLinkHtml;\n",
              "        element.appendChild(docLink);\n",
              "      }\n",
              "    </script>\n",
              "  </div>\n",
              "\n",
              "\n",
              "<div id=\"df-c7230eed-b1c8-49b1-9869-c942fc1938bd\">\n",
              "  <button class=\"colab-df-quickchart\" onclick=\"quickchart('df-c7230eed-b1c8-49b1-9869-c942fc1938bd')\"\n",
              "            title=\"Suggest charts\"\n",
              "            style=\"display:none;\">\n",
              "\n",
              "<svg xmlns=\"http://www.w3.org/2000/svg\" height=\"24px\"viewBox=\"0 0 24 24\"\n",
              "     width=\"24px\">\n",
              "    <g>\n",
              "        <path d=\"M19 3H5c-1.1 0-2 .9-2 2v14c0 1.1.9 2 2 2h14c1.1 0 2-.9 2-2V5c0-1.1-.9-2-2-2zM9 17H7v-7h2v7zm4 0h-2V7h2v10zm4 0h-2v-4h2v4z\"/>\n",
              "    </g>\n",
              "</svg>\n",
              "  </button>\n",
              "\n",
              "<style>\n",
              "  .colab-df-quickchart {\n",
              "      --bg-color: #E8F0FE;\n",
              "      --fill-color: #1967D2;\n",
              "      --hover-bg-color: #E2EBFA;\n",
              "      --hover-fill-color: #174EA6;\n",
              "      --disabled-fill-color: #AAA;\n",
              "      --disabled-bg-color: #DDD;\n",
              "  }\n",
              "\n",
              "  [theme=dark] .colab-df-quickchart {\n",
              "      --bg-color: #3B4455;\n",
              "      --fill-color: #D2E3FC;\n",
              "      --hover-bg-color: #434B5C;\n",
              "      --hover-fill-color: #FFFFFF;\n",
              "      --disabled-bg-color: #3B4455;\n",
              "      --disabled-fill-color: #666;\n",
              "  }\n",
              "\n",
              "  .colab-df-quickchart {\n",
              "    background-color: var(--bg-color);\n",
              "    border: none;\n",
              "    border-radius: 50%;\n",
              "    cursor: pointer;\n",
              "    display: none;\n",
              "    fill: var(--fill-color);\n",
              "    height: 32px;\n",
              "    padding: 0;\n",
              "    width: 32px;\n",
              "  }\n",
              "\n",
              "  .colab-df-quickchart:hover {\n",
              "    background-color: var(--hover-bg-color);\n",
              "    box-shadow: 0 1px 2px rgba(60, 64, 67, 0.3), 0 1px 3px 1px rgba(60, 64, 67, 0.15);\n",
              "    fill: var(--button-hover-fill-color);\n",
              "  }\n",
              "\n",
              "  .colab-df-quickchart-complete:disabled,\n",
              "  .colab-df-quickchart-complete:disabled:hover {\n",
              "    background-color: var(--disabled-bg-color);\n",
              "    fill: var(--disabled-fill-color);\n",
              "    box-shadow: none;\n",
              "  }\n",
              "\n",
              "  .colab-df-spinner {\n",
              "    border: 2px solid var(--fill-color);\n",
              "    border-color: transparent;\n",
              "    border-bottom-color: var(--fill-color);\n",
              "    animation:\n",
              "      spin 1s steps(1) infinite;\n",
              "  }\n",
              "\n",
              "  @keyframes spin {\n",
              "    0% {\n",
              "      border-color: transparent;\n",
              "      border-bottom-color: var(--fill-color);\n",
              "      border-left-color: var(--fill-color);\n",
              "    }\n",
              "    20% {\n",
              "      border-color: transparent;\n",
              "      border-left-color: var(--fill-color);\n",
              "      border-top-color: var(--fill-color);\n",
              "    }\n",
              "    30% {\n",
              "      border-color: transparent;\n",
              "      border-left-color: var(--fill-color);\n",
              "      border-top-color: var(--fill-color);\n",
              "      border-right-color: var(--fill-color);\n",
              "    }\n",
              "    40% {\n",
              "      border-color: transparent;\n",
              "      border-right-color: var(--fill-color);\n",
              "      border-top-color: var(--fill-color);\n",
              "    }\n",
              "    60% {\n",
              "      border-color: transparent;\n",
              "      border-right-color: var(--fill-color);\n",
              "    }\n",
              "    80% {\n",
              "      border-color: transparent;\n",
              "      border-right-color: var(--fill-color);\n",
              "      border-bottom-color: var(--fill-color);\n",
              "    }\n",
              "    90% {\n",
              "      border-color: transparent;\n",
              "      border-bottom-color: var(--fill-color);\n",
              "    }\n",
              "  }\n",
              "</style>\n",
              "\n",
              "  <script>\n",
              "    async function quickchart(key) {\n",
              "      const quickchartButtonEl =\n",
              "        document.querySelector('#' + key + ' button');\n",
              "      quickchartButtonEl.disabled = true;  // To prevent multiple clicks.\n",
              "      quickchartButtonEl.classList.add('colab-df-spinner');\n",
              "      try {\n",
              "        const charts = await google.colab.kernel.invokeFunction(\n",
              "            'suggestCharts', [key], {});\n",
              "      } catch (error) {\n",
              "        console.error('Error during call to suggestCharts:', error);\n",
              "      }\n",
              "      quickchartButtonEl.classList.remove('colab-df-spinner');\n",
              "      quickchartButtonEl.classList.add('colab-df-quickchart-complete');\n",
              "    }\n",
              "    (() => {\n",
              "      let quickchartButtonEl =\n",
              "        document.querySelector('#df-c7230eed-b1c8-49b1-9869-c942fc1938bd button');\n",
              "      quickchartButtonEl.style.display =\n",
              "        google.colab.kernel.accessAllowed ? 'block' : 'none';\n",
              "    })();\n",
              "  </script>\n",
              "</div>\n",
              "\n",
              "  <div id=\"id_1dc93fa0-f97b-44d9-8e27-137adc4fbb05\">\n",
              "    <style>\n",
              "      .colab-df-generate {\n",
              "        background-color: #E8F0FE;\n",
              "        border: none;\n",
              "        border-radius: 50%;\n",
              "        cursor: pointer;\n",
              "        display: none;\n",
              "        fill: #1967D2;\n",
              "        height: 32px;\n",
              "        padding: 0 0 0 0;\n",
              "        width: 32px;\n",
              "      }\n",
              "\n",
              "      .colab-df-generate:hover {\n",
              "        background-color: #E2EBFA;\n",
              "        box-shadow: 0px 1px 2px rgba(60, 64, 67, 0.3), 0px 1px 3px 1px rgba(60, 64, 67, 0.15);\n",
              "        fill: #174EA6;\n",
              "      }\n",
              "\n",
              "      [theme=dark] .colab-df-generate {\n",
              "        background-color: #3B4455;\n",
              "        fill: #D2E3FC;\n",
              "      }\n",
              "\n",
              "      [theme=dark] .colab-df-generate:hover {\n",
              "        background-color: #434B5C;\n",
              "        box-shadow: 0px 1px 3px 1px rgba(0, 0, 0, 0.15);\n",
              "        filter: drop-shadow(0px 1px 2px rgba(0, 0, 0, 0.3));\n",
              "        fill: #FFFFFF;\n",
              "      }\n",
              "    </style>\n",
              "    <button class=\"colab-df-generate\" onclick=\"generateWithVariable('preprocessed_df')\"\n",
              "            title=\"Generate code using this dataframe.\"\n",
              "            style=\"display:none;\">\n",
              "\n",
              "  <svg xmlns=\"http://www.w3.org/2000/svg\" height=\"24px\"viewBox=\"0 0 24 24\"\n",
              "       width=\"24px\">\n",
              "    <path d=\"M7,19H8.4L18.45,9,17,7.55,7,17.6ZM5,21V16.75L18.45,3.32a2,2,0,0,1,2.83,0l1.4,1.43a1.91,1.91,0,0,1,.58,1.4,1.91,1.91,0,0,1-.58,1.4L9.25,21ZM18.45,9,17,7.55Zm-12,3A5.31,5.31,0,0,0,4.9,8.1,5.31,5.31,0,0,0,1,6.5,5.31,5.31,0,0,0,4.9,4.9,5.31,5.31,0,0,0,6.5,1,5.31,5.31,0,0,0,8.1,4.9,5.31,5.31,0,0,0,12,6.5,5.46,5.46,0,0,0,6.5,12Z\"/>\n",
              "  </svg>\n",
              "    </button>\n",
              "    <script>\n",
              "      (() => {\n",
              "      const buttonEl =\n",
              "        document.querySelector('#id_1dc93fa0-f97b-44d9-8e27-137adc4fbb05 button.colab-df-generate');\n",
              "      buttonEl.style.display =\n",
              "        google.colab.kernel.accessAllowed ? 'block' : 'none';\n",
              "\n",
              "      buttonEl.onclick = () => {\n",
              "        google.colab.notebook.generateWithVariable('preprocessed_df');\n",
              "      }\n",
              "      })();\n",
              "    </script>\n",
              "  </div>\n",
              "\n",
              "    </div>\n",
              "  </div>\n"
            ],
            "application/vnd.google.colaboratory.intrinsic+json": {
              "type": "dataframe",
              "variable_name": "preprocessed_df"
            }
          },
          "metadata": {},
          "execution_count": 48
        }
      ]
    },
    {
      "cell_type": "code",
      "source": [
        "preprocessed_df.shape"
      ],
      "metadata": {
        "id": "Rbpxf4QAS2k8",
        "colab": {
          "base_uri": "https://localhost:8080/"
        },
        "outputId": "56cb9cac-0da8-4249-fbff-f52cde9197e1"
      },
      "execution_count": 49,
      "outputs": [
        {
          "output_type": "execute_result",
          "data": {
            "text/plain": [
              "(318819, 4)"
            ]
          },
          "metadata": {},
          "execution_count": 49
        }
      ]
    },
    {
      "cell_type": "code",
      "source": [
        "cleaned_df.shape"
      ],
      "metadata": {
        "colab": {
          "base_uri": "https://localhost:8080/"
        },
        "id": "g3Kbkakeyx8P",
        "outputId": "87416556-2a62-4e23-be47-9e2a22cc0b2e"
      },
      "execution_count": 50,
      "outputs": [
        {
          "output_type": "execute_result",
          "data": {
            "text/plain": [
              "(318819, 28)"
            ]
          },
          "metadata": {},
          "execution_count": 50
        }
      ]
    },
    {
      "cell_type": "markdown",
      "source": [
        "- Initially, `35 independent columns` for `1 target column` ...\n",
        "- After `feature selection`, only `4` inputs for `1` target column"
      ],
      "metadata": {
        "id": "M0Vm-mRLuIzV"
      }
    },
    {
      "cell_type": "markdown",
      "source": [
        "#### Step 6: select_important_features\n",
        "\n",
        "\n",
        "---\n",
        "\n",
        "* We experimented with various methods to identify the best features.\n",
        "\n",
        "* Best features = [ `totalPrice`, `square`, `communityAverage`, `year` ]"
      ],
      "metadata": {
        "id": "n9XW3zaTvFhI"
      }
    },
    {
      "cell_type": "code",
      "source": [
        "from sklearn.model_selection import train_test_split\n",
        "X = preprocessed_df\n",
        "y= cleaned_df.loc[:,'price']\n",
        "\n",
        "X_train,X_test,y_train,y_test = train_test_split(X,y,test_size=0.20,random_state=42)"
      ],
      "metadata": {
        "id": "xLldRuzdvLhW"
      },
      "execution_count": 51,
      "outputs": []
    },
    {
      "cell_type": "code",
      "source": [
        "X_train.shape,y_train.shape"
      ],
      "metadata": {
        "colab": {
          "base_uri": "https://localhost:8080/"
        },
        "id": "v3OU_k--5Dj7",
        "outputId": "61e2b76c-80ed-4c45-e9cf-cae077ef6b31"
      },
      "execution_count": 52,
      "outputs": [
        {
          "output_type": "execute_result",
          "data": {
            "text/plain": [
              "((255055, 4), (255055,))"
            ]
          },
          "metadata": {},
          "execution_count": 52
        }
      ]
    },
    {
      "cell_type": "code",
      "source": [
        "from sklearn.ensemble import RandomForestRegressor\n",
        "from sklearn.feature_selection import SelectFromModel\n",
        "\n",
        "def select_important_features(X_train,y_train, threshold='mean'):\n",
        "\n",
        "    # Initialize a Random Forest model\n",
        "    rf = RandomForestRegressor(n_estimators=100, random_state=42)\n",
        "\n",
        "    # Fit the model\n",
        "    rf.fit(X_train, y_train)\n",
        "\n",
        "    # Use SelectFromModel to select important features\n",
        "    selector = SelectFromModel(rf, threshold=threshold)\n",
        "    selector.fit(X_train, y_train)\n",
        "\n",
        "    # Get the selected features\n",
        "    selected_features = X.columns[(selector.get_support())]\n",
        "\n",
        "    return selected_features\n",
        "\n",
        "selected_features = select_important_features(X_train,y_train)\n",
        "print(f\"Selected features using Random Forest Regressor: {selected_features}\")"
      ],
      "metadata": {
        "id": "Z5VwFc1zt7oF",
        "colab": {
          "base_uri": "https://localhost:8080/"
        },
        "outputId": "944f6f76-092f-4e6c-c88b-e1394f50e11c"
      },
      "execution_count": 53,
      "outputs": [
        {
          "output_type": "stream",
          "name": "stdout",
          "text": [
            "Selected features using Random Forest Regressor: Index(['totalPrice'], dtype='object')\n"
          ]
        }
      ]
    },
    {
      "cell_type": "code",
      "source": [
        "print(len(selected_features))"
      ],
      "metadata": {
        "id": "rfngzGllw9V7",
        "colab": {
          "base_uri": "https://localhost:8080/"
        },
        "outputId": "5b49dac5-a296-4341-f819-7488c2c5c4fb"
      },
      "execution_count": 54,
      "outputs": [
        {
          "output_type": "stream",
          "name": "stdout",
          "text": [
            "1\n"
          ]
        }
      ]
    },
    {
      "cell_type": "code",
      "source": [
        "from sklearn.feature_selection import RFECV\n",
        "from sklearn.model_selection import train_test_split\n",
        "from sklearn.linear_model import LinearRegression\n",
        "\n",
        "\n",
        "def select_important_features_rfecv(X_train, y_train):\n",
        "\n",
        "    # Initialize a Linear Regression model\n",
        "    model = LinearRegression()\n",
        "\n",
        "    # Initialize RFECV\n",
        "    rfecv = RFECV(estimator=model, step=1, cv=5, scoring='neg_mean_squared_error')\n",
        "\n",
        "    # Fit RFECV\n",
        "    rfecv.fit(X_train, y_train)\n",
        "\n",
        "    # Get the selected features\n",
        "    selected_features = X_train.columns[rfecv.support_]\n",
        "\n",
        "    return selected_features\n",
        "\n",
        "\n",
        "selected_features = select_important_features_rfecv(X_train, y_train)\n",
        "print(f\"Selected features using RFECV: {selected_features}\")\n",
        "print(len(selected_features))"
      ],
      "metadata": {
        "colab": {
          "base_uri": "https://localhost:8080/"
        },
        "id": "EbaDXfvHxHjI",
        "outputId": "e8f7cec6-96e3-4756-bc01-fc30058491d4"
      },
      "execution_count": 57,
      "outputs": [
        {
          "output_type": "stream",
          "name": "stdout",
          "text": [
            "Selected features using RFECV: Index(['totalPrice', 'square', 'communityAverage', 'year'], dtype='object')\n",
            "4\n"
          ]
        }
      ]
    },
    {
      "cell_type": "code",
      "source": [
        "from sklearn.linear_model import Lasso\n",
        "from sklearn.feature_selection import SelectFromModel\n",
        "\n",
        "def select_important_features_lasso(X_train, y_train, alpha=0.1):\n",
        "    lasso = Lasso(alpha=alpha)\n",
        "    lasso.fit(X_train, y_train)\n",
        "    model = SelectFromModel(lasso, prefit=True)\n",
        "    selected_features = X_train.columns[(model.get_support())]\n",
        "\n",
        "    return selected_features\n",
        "\n",
        "\n",
        "selected_features = select_important_features_lasso(X_train, y_train)\n",
        "print(f\"Selected features using Lasso: {selected_features}\")\n",
        "print(len(selected_features))\n"
      ],
      "metadata": {
        "colab": {
          "base_uri": "https://localhost:8080/"
        },
        "id": "8AKrlP030kM6",
        "outputId": "5f9fdf2b-c01d-46cb-b8bc-588458e82e82"
      },
      "execution_count": 58,
      "outputs": [
        {
          "output_type": "stream",
          "name": "stdout",
          "text": [
            "Selected features using Lasso: Index(['totalPrice', 'square', 'communityAverage', 'year'], dtype='object')\n",
            "4\n"
          ]
        }
      ]
    },
    {
      "cell_type": "markdown",
      "source": [
        "#### Step 7: Train & Validate Models\n",
        "\n",
        "\n",
        "---\n",
        "- Linear Regression\n",
        "- Random Forest Regressor\n"
      ],
      "metadata": {
        "id": "OsYrrB_kT_kR"
      }
    },
    {
      "cell_type": "code",
      "source": [
        "selected_cols = ['totalPrice', 'square', 'communityAverage', 'year']\n",
        "\n",
        "# 31 featuers\n",
        "# selected_cols = ['Lat', 'DOM', 'followers', 'totalPrice', 'square', 'livingRoom',\n",
        "#        'constructionTime', 'ladderRatio', 'district', 'communityAverage',\n",
        "#        'floor_number', 'floor_category_encoded', 'year', 'month', 'day',\n",
        "#        'day_of_week', 'quarter', 'buildingType_2.0', 'buildingType_3.0',\n",
        "#        'buildingType_4.0', 'renovationCondition_2', 'renovationCondition_3',\n",
        "#        'renovationCondition_4', 'buildingStructure_2', 'buildingStructure_3',\n",
        "#        'buildingStructure_4', 'buildingStructure_5', 'buildingStructure_6',\n",
        "#        'elevator_1.0', 'fiveYearsProperty_1.0', 'subway_1.0']"
      ],
      "metadata": {
        "id": "DCbvRLOE2Tm2"
      },
      "execution_count": 59,
      "outputs": []
    },
    {
      "cell_type": "code",
      "source": [
        "from sklearn.model_selection import train_test_split\n",
        "\n",
        "X = preprocessed_df # inputs\n",
        "y = cleaned_df.loc[:,'price']\n",
        "\n",
        "X_train,X_test,y_train,y_test = train_test_split(X,y,test_size=0.20,random_state=42)"
      ],
      "metadata": {
        "id": "ifeS4z7uCdJx"
      },
      "execution_count": 60,
      "outputs": []
    },
    {
      "cell_type": "code",
      "source": [
        "X_train.shape,y_train.shape"
      ],
      "metadata": {
        "colab": {
          "base_uri": "https://localhost:8080/"
        },
        "id": "tb57VhDx8LEp",
        "outputId": "5105c7c2-39e1-48d5-8692-d9f97a75e63e"
      },
      "execution_count": 61,
      "outputs": [
        {
          "output_type": "execute_result",
          "data": {
            "text/plain": [
              "((255055, 4), (255055,))"
            ]
          },
          "metadata": {},
          "execution_count": 61
        }
      ]
    },
    {
      "cell_type": "code",
      "source": [
        "X_test.shape,y_test.shape"
      ],
      "metadata": {
        "colab": {
          "base_uri": "https://localhost:8080/"
        },
        "id": "rOxehBmu8Z8N",
        "outputId": "4ff37d21-2fb3-4868-9071-17c71fca2c86"
      },
      "execution_count": 62,
      "outputs": [
        {
          "output_type": "execute_result",
          "data": {
            "text/plain": [
              "((63764, 4), (63764,))"
            ]
          },
          "metadata": {},
          "execution_count": 62
        }
      ]
    },
    {
      "cell_type": "code",
      "source": [
        "from sklearn.metrics import mean_squared_error, mean_absolute_error, r2_score\n",
        "\n",
        "\n",
        "def train_model(model_object):\n",
        "\n",
        "  model_object.fit(X_train,y_train)\n",
        "  return model_object\n",
        "\n",
        "def validate_model_accuracy(model_object):\n",
        "\n",
        "  #  Training\n",
        "  model = train_model(model_object)\n",
        "\n",
        "  y_true = y_test  # True target values from the test set\n",
        "  y_pred = model.predict(X_test)  # Predicted target values\n",
        "\n",
        "  # Calculate evaluation metrics\n",
        "  mse = mean_squared_error(y_true, y_pred)\n",
        "  rmse = mean_squared_error(y_true, y_pred, squared=False)\n",
        "  mae = mean_absolute_error(y_true, y_pred)\n",
        "  r2 = r2_score(y_true, y_pred)\n",
        "\n",
        "  print(\"Mean Squared Error (MSE):\", mse)\n",
        "  print(\"Root Mean Squared Error (RMSE):\", rmse)\n",
        "  print(\"Mean Absolute Error (MAE):\", mae)\n",
        "  print(\"R-squared (R^2):\", r2)\n",
        "\n",
        "  print(\"=\"*20)\n",
        "\n",
        "  return model"
      ],
      "metadata": {
        "id": "_thTO4OY4Vxh"
      },
      "execution_count": 63,
      "outputs": []
    },
    {
      "cell_type": "code",
      "source": [
        "from sklearn.ensemble import RandomForestRegressor\n",
        "from sklearn.linear_model import LinearRegression\n",
        "\n",
        "print(\"Validating Linear Regression model \\n\")\n",
        "lr_model = validate_model_accuracy(LinearRegression())\n",
        "\n",
        "print(\"Validating Random Forest model \\n\")\n",
        "rf_model = validate_model_accuracy(RandomForestRegressor())\n",
        "\n",
        "# rf model ==> we'll use 4 features only\n",
        "\n",
        "# R-squared (R^2): 0.9892  for 4  features"
      ],
      "metadata": {
        "colab": {
          "base_uri": "https://localhost:8080/"
        },
        "id": "E0qvjhnjEDMM",
        "outputId": "faf185c3-ac95-426c-e867-918b61a66a7a"
      },
      "execution_count": 64,
      "outputs": [
        {
          "output_type": "stream",
          "name": "stdout",
          "text": [
            "Validating Linear Regression model \n",
            "\n",
            "Mean Squared Error (MSE): 59519459.99474472\n",
            "Root Mean Squared Error (RMSE): 7714.885611254695\n",
            "Mean Absolute Error (MAE): 4859.992794171368\n",
            "R-squared (R^2): 0.8736122591554256\n",
            "====================\n",
            "Validating Random Forest model \n",
            "\n",
            "Mean Squared Error (MSE): 5045655.024454571\n",
            "Root Mean Squared Error (RMSE): 2246.25355301991\n",
            "Mean Absolute Error (MAE): 507.0560402095244\n",
            "R-squared (R^2): 0.9892857068985808\n",
            "====================\n"
          ]
        }
      ]
    },
    {
      "cell_type": "markdown",
      "source": [
        "Overall, these  cross-validation results confirm that the `Random Forest model` is a highly accurate and reliable predictor for this dataset.\n"
      ],
      "metadata": {
        "id": "fUaOfEUsQ9Rq"
      }
    },
    {
      "cell_type": "markdown",
      "source": [
        "#### Step 8: Cross Validating Random Forest Regressor"
      ],
      "metadata": {
        "id": "Fvk-1PbiTvwG"
      }
    },
    {
      "cell_type": "code",
      "source": [
        "from sklearn.model_selection import cross_val_score\n",
        "from sklearn.ensemble import RandomForestRegressor\n",
        "\n",
        "\n",
        "rf_model_cv = RandomForestRegressor()\n",
        "\n",
        "# Perform cross-validation with 5 folds\n",
        "cv_scores = cross_val_score(rf_model_cv, X, y, cv=5, scoring='neg_mean_squared_error')\n",
        "\n",
        "# Convert negative MSE scores to positive and calculate RMSE scores\n",
        "cv_rmse_scores = np.sqrt(-cv_scores)\n",
        "\n",
        "# Calculate the mean and standard deviation of RMSE scores\n",
        "mean_rmse = np.mean(cv_rmse_scores)\n",
        "std_rmse = np.std(cv_rmse_scores)\n",
        "\n",
        "print(\"Cross-Validation RMSE Scores:\", cv_rmse_scores)\n",
        "print(\"Mean RMSE:\", mean_rmse)\n",
        "print(\"Standard Deviation of RMSE:\", std_rmse)\n",
        "\n",
        "# for 4 features on X_train,y_train\n",
        "# Cross-Validation RMSE Scores: [4971.97950826 3024.98133586 1970.06810395 2025.23688025 2393.98990131]\n",
        "# Mean RMSE: 2877.251145928217\n",
        "# Standard Deviation of RMSE: 1112.8487706875699"
      ],
      "metadata": {
        "id": "Cp_yHYrlK58F",
        "colab": {
          "base_uri": "https://localhost:8080/"
        },
        "outputId": "31235a49-5e98-4f01-85da-e5b0bca2016f"
      },
      "execution_count": 65,
      "outputs": [
        {
          "output_type": "stream",
          "name": "stdout",
          "text": [
            "Cross-Validation RMSE Scores: [4970.59144196 3034.36859914 1958.61345507 2020.75195447 2392.44699494]\n",
            "Mean RMSE: 2875.354489114093\n",
            "Standard Deviation of RMSE: 1115.281367136312\n"
          ]
        }
      ]
    },
    {
      "cell_type": "code",
      "source": [
        "# Perform cross-validation with 5 folds for R-squared\n",
        "cv_scores_r2 = cross_val_score(RandomForestRegressor(), X, y, cv=5, scoring='r2')\n",
        "\n",
        "# Calculate the mean and standard deviation of R-squared scores\n",
        "mean_r2 = np.mean(cv_scores_r2)\n",
        "std_r2 = np.std(cv_scores_r2)\n",
        "\n",
        "print(\"Mean RMSE:\", mean_rmse)\n",
        "print(\"Cross-Validation R-squared Scores:\", cv_scores_r2)\n",
        "print(\"Mean R-squared:\", mean_r2)\n",
        "print(\"Standard Deviation of R-squared:\", std_r2)\n",
        "\n",
        "# for 4 features\n",
        "# Mean RMSE: 2877.251145928217\n",
        "# Cross-Validation R-squared Scores: [0.9549761  0.98772715 0.96230477 0.98040251 0.98692201]\n",
        "# Mean R-squared: 0.9744665071669315\n",
        "# Standard Deviation of R-squared: 0.013371644215400104"
      ],
      "metadata": {
        "colab": {
          "base_uri": "https://localhost:8080/"
        },
        "id": "tXapmWscvSGw",
        "outputId": "a207fe3e-cf47-47a1-a683-bc83a9a5cff2"
      },
      "execution_count": 66,
      "outputs": [
        {
          "output_type": "stream",
          "name": "stdout",
          "text": [
            "Mean RMSE: 2875.354489114093\n",
            "Cross-Validation R-squared Scores: [0.95486945 0.98771055 0.96238315 0.98020303 0.98674192]\n",
            "Mean R-squared: 0.9743816199064194\n",
            "Standard Deviation of R-squared: 0.013334273417869193\n"
          ]
        }
      ]
    },
    {
      "cell_type": "code",
      "source": [
        "X_train.head()"
      ],
      "metadata": {
        "colab": {
          "base_uri": "https://localhost:8080/",
          "height": 0
        },
        "id": "tDEH04gZKUvn",
        "outputId": "e78d1323-84b7-4346-d420-6e0bd4f8d12d"
      },
      "execution_count": 67,
      "outputs": [
        {
          "output_type": "execute_result",
          "data": {
            "text/plain": [
              "        totalPrice    square  communityAverage      year\n",
              "15187     0.458420 -0.663763          0.641570  0.734184\n",
              "42252     1.035270 -1.218104          1.516666  0.734184\n",
              "4980      0.405287  1.295129         -1.384122  0.734184\n",
              "202553   -0.047902 -0.511581          1.069352  0.130423\n",
              "73892     0.874879 -1.208298          0.940360  1.337796"
            ],
            "text/html": [
              "\n",
              "  <div id=\"df-71c231db-0a5b-42ec-9272-a430540e4108\" class=\"colab-df-container\">\n",
              "    <div>\n",
              "<style scoped>\n",
              "    .dataframe tbody tr th:only-of-type {\n",
              "        vertical-align: middle;\n",
              "    }\n",
              "\n",
              "    .dataframe tbody tr th {\n",
              "        vertical-align: top;\n",
              "    }\n",
              "\n",
              "    .dataframe thead th {\n",
              "        text-align: right;\n",
              "    }\n",
              "</style>\n",
              "<table border=\"1\" class=\"dataframe\">\n",
              "  <thead>\n",
              "    <tr style=\"text-align: right;\">\n",
              "      <th></th>\n",
              "      <th>totalPrice</th>\n",
              "      <th>square</th>\n",
              "      <th>communityAverage</th>\n",
              "      <th>year</th>\n",
              "    </tr>\n",
              "  </thead>\n",
              "  <tbody>\n",
              "    <tr>\n",
              "      <th>15187</th>\n",
              "      <td>0.458420</td>\n",
              "      <td>-0.663763</td>\n",
              "      <td>0.641570</td>\n",
              "      <td>0.734184</td>\n",
              "    </tr>\n",
              "    <tr>\n",
              "      <th>42252</th>\n",
              "      <td>1.035270</td>\n",
              "      <td>-1.218104</td>\n",
              "      <td>1.516666</td>\n",
              "      <td>0.734184</td>\n",
              "    </tr>\n",
              "    <tr>\n",
              "      <th>4980</th>\n",
              "      <td>0.405287</td>\n",
              "      <td>1.295129</td>\n",
              "      <td>-1.384122</td>\n",
              "      <td>0.734184</td>\n",
              "    </tr>\n",
              "    <tr>\n",
              "      <th>202553</th>\n",
              "      <td>-0.047902</td>\n",
              "      <td>-0.511581</td>\n",
              "      <td>1.069352</td>\n",
              "      <td>0.130423</td>\n",
              "    </tr>\n",
              "    <tr>\n",
              "      <th>73892</th>\n",
              "      <td>0.874879</td>\n",
              "      <td>-1.208298</td>\n",
              "      <td>0.940360</td>\n",
              "      <td>1.337796</td>\n",
              "    </tr>\n",
              "  </tbody>\n",
              "</table>\n",
              "</div>\n",
              "    <div class=\"colab-df-buttons\">\n",
              "\n",
              "  <div class=\"colab-df-container\">\n",
              "    <button class=\"colab-df-convert\" onclick=\"convertToInteractive('df-71c231db-0a5b-42ec-9272-a430540e4108')\"\n",
              "            title=\"Convert this dataframe to an interactive table.\"\n",
              "            style=\"display:none;\">\n",
              "\n",
              "  <svg xmlns=\"http://www.w3.org/2000/svg\" height=\"24px\" viewBox=\"0 -960 960 960\">\n",
              "    <path d=\"M120-120v-720h720v720H120Zm60-500h600v-160H180v160Zm220 220h160v-160H400v160Zm0 220h160v-160H400v160ZM180-400h160v-160H180v160Zm440 0h160v-160H620v160ZM180-180h160v-160H180v160Zm440 0h160v-160H620v160Z\"/>\n",
              "  </svg>\n",
              "    </button>\n",
              "\n",
              "  <style>\n",
              "    .colab-df-container {\n",
              "      display:flex;\n",
              "      gap: 12px;\n",
              "    }\n",
              "\n",
              "    .colab-df-convert {\n",
              "      background-color: #E8F0FE;\n",
              "      border: none;\n",
              "      border-radius: 50%;\n",
              "      cursor: pointer;\n",
              "      display: none;\n",
              "      fill: #1967D2;\n",
              "      height: 32px;\n",
              "      padding: 0 0 0 0;\n",
              "      width: 32px;\n",
              "    }\n",
              "\n",
              "    .colab-df-convert:hover {\n",
              "      background-color: #E2EBFA;\n",
              "      box-shadow: 0px 1px 2px rgba(60, 64, 67, 0.3), 0px 1px 3px 1px rgba(60, 64, 67, 0.15);\n",
              "      fill: #174EA6;\n",
              "    }\n",
              "\n",
              "    .colab-df-buttons div {\n",
              "      margin-bottom: 4px;\n",
              "    }\n",
              "\n",
              "    [theme=dark] .colab-df-convert {\n",
              "      background-color: #3B4455;\n",
              "      fill: #D2E3FC;\n",
              "    }\n",
              "\n",
              "    [theme=dark] .colab-df-convert:hover {\n",
              "      background-color: #434B5C;\n",
              "      box-shadow: 0px 1px 3px 1px rgba(0, 0, 0, 0.15);\n",
              "      filter: drop-shadow(0px 1px 2px rgba(0, 0, 0, 0.3));\n",
              "      fill: #FFFFFF;\n",
              "    }\n",
              "  </style>\n",
              "\n",
              "    <script>\n",
              "      const buttonEl =\n",
              "        document.querySelector('#df-71c231db-0a5b-42ec-9272-a430540e4108 button.colab-df-convert');\n",
              "      buttonEl.style.display =\n",
              "        google.colab.kernel.accessAllowed ? 'block' : 'none';\n",
              "\n",
              "      async function convertToInteractive(key) {\n",
              "        const element = document.querySelector('#df-71c231db-0a5b-42ec-9272-a430540e4108');\n",
              "        const dataTable =\n",
              "          await google.colab.kernel.invokeFunction('convertToInteractive',\n",
              "                                                    [key], {});\n",
              "        if (!dataTable) return;\n",
              "\n",
              "        const docLinkHtml = 'Like what you see? Visit the ' +\n",
              "          '<a target=\"_blank\" href=https://colab.research.google.com/notebooks/data_table.ipynb>data table notebook</a>'\n",
              "          + ' to learn more about interactive tables.';\n",
              "        element.innerHTML = '';\n",
              "        dataTable['output_type'] = 'display_data';\n",
              "        await google.colab.output.renderOutput(dataTable, element);\n",
              "        const docLink = document.createElement('div');\n",
              "        docLink.innerHTML = docLinkHtml;\n",
              "        element.appendChild(docLink);\n",
              "      }\n",
              "    </script>\n",
              "  </div>\n",
              "\n",
              "\n",
              "<div id=\"df-719a37e9-9286-46a0-9d24-0215466c9fc6\">\n",
              "  <button class=\"colab-df-quickchart\" onclick=\"quickchart('df-719a37e9-9286-46a0-9d24-0215466c9fc6')\"\n",
              "            title=\"Suggest charts\"\n",
              "            style=\"display:none;\">\n",
              "\n",
              "<svg xmlns=\"http://www.w3.org/2000/svg\" height=\"24px\"viewBox=\"0 0 24 24\"\n",
              "     width=\"24px\">\n",
              "    <g>\n",
              "        <path d=\"M19 3H5c-1.1 0-2 .9-2 2v14c0 1.1.9 2 2 2h14c1.1 0 2-.9 2-2V5c0-1.1-.9-2-2-2zM9 17H7v-7h2v7zm4 0h-2V7h2v10zm4 0h-2v-4h2v4z\"/>\n",
              "    </g>\n",
              "</svg>\n",
              "  </button>\n",
              "\n",
              "<style>\n",
              "  .colab-df-quickchart {\n",
              "      --bg-color: #E8F0FE;\n",
              "      --fill-color: #1967D2;\n",
              "      --hover-bg-color: #E2EBFA;\n",
              "      --hover-fill-color: #174EA6;\n",
              "      --disabled-fill-color: #AAA;\n",
              "      --disabled-bg-color: #DDD;\n",
              "  }\n",
              "\n",
              "  [theme=dark] .colab-df-quickchart {\n",
              "      --bg-color: #3B4455;\n",
              "      --fill-color: #D2E3FC;\n",
              "      --hover-bg-color: #434B5C;\n",
              "      --hover-fill-color: #FFFFFF;\n",
              "      --disabled-bg-color: #3B4455;\n",
              "      --disabled-fill-color: #666;\n",
              "  }\n",
              "\n",
              "  .colab-df-quickchart {\n",
              "    background-color: var(--bg-color);\n",
              "    border: none;\n",
              "    border-radius: 50%;\n",
              "    cursor: pointer;\n",
              "    display: none;\n",
              "    fill: var(--fill-color);\n",
              "    height: 32px;\n",
              "    padding: 0;\n",
              "    width: 32px;\n",
              "  }\n",
              "\n",
              "  .colab-df-quickchart:hover {\n",
              "    background-color: var(--hover-bg-color);\n",
              "    box-shadow: 0 1px 2px rgba(60, 64, 67, 0.3), 0 1px 3px 1px rgba(60, 64, 67, 0.15);\n",
              "    fill: var(--button-hover-fill-color);\n",
              "  }\n",
              "\n",
              "  .colab-df-quickchart-complete:disabled,\n",
              "  .colab-df-quickchart-complete:disabled:hover {\n",
              "    background-color: var(--disabled-bg-color);\n",
              "    fill: var(--disabled-fill-color);\n",
              "    box-shadow: none;\n",
              "  }\n",
              "\n",
              "  .colab-df-spinner {\n",
              "    border: 2px solid var(--fill-color);\n",
              "    border-color: transparent;\n",
              "    border-bottom-color: var(--fill-color);\n",
              "    animation:\n",
              "      spin 1s steps(1) infinite;\n",
              "  }\n",
              "\n",
              "  @keyframes spin {\n",
              "    0% {\n",
              "      border-color: transparent;\n",
              "      border-bottom-color: var(--fill-color);\n",
              "      border-left-color: var(--fill-color);\n",
              "    }\n",
              "    20% {\n",
              "      border-color: transparent;\n",
              "      border-left-color: var(--fill-color);\n",
              "      border-top-color: var(--fill-color);\n",
              "    }\n",
              "    30% {\n",
              "      border-color: transparent;\n",
              "      border-left-color: var(--fill-color);\n",
              "      border-top-color: var(--fill-color);\n",
              "      border-right-color: var(--fill-color);\n",
              "    }\n",
              "    40% {\n",
              "      border-color: transparent;\n",
              "      border-right-color: var(--fill-color);\n",
              "      border-top-color: var(--fill-color);\n",
              "    }\n",
              "    60% {\n",
              "      border-color: transparent;\n",
              "      border-right-color: var(--fill-color);\n",
              "    }\n",
              "    80% {\n",
              "      border-color: transparent;\n",
              "      border-right-color: var(--fill-color);\n",
              "      border-bottom-color: var(--fill-color);\n",
              "    }\n",
              "    90% {\n",
              "      border-color: transparent;\n",
              "      border-bottom-color: var(--fill-color);\n",
              "    }\n",
              "  }\n",
              "</style>\n",
              "\n",
              "  <script>\n",
              "    async function quickchart(key) {\n",
              "      const quickchartButtonEl =\n",
              "        document.querySelector('#' + key + ' button');\n",
              "      quickchartButtonEl.disabled = true;  // To prevent multiple clicks.\n",
              "      quickchartButtonEl.classList.add('colab-df-spinner');\n",
              "      try {\n",
              "        const charts = await google.colab.kernel.invokeFunction(\n",
              "            'suggestCharts', [key], {});\n",
              "      } catch (error) {\n",
              "        console.error('Error during call to suggestCharts:', error);\n",
              "      }\n",
              "      quickchartButtonEl.classList.remove('colab-df-spinner');\n",
              "      quickchartButtonEl.classList.add('colab-df-quickchart-complete');\n",
              "    }\n",
              "    (() => {\n",
              "      let quickchartButtonEl =\n",
              "        document.querySelector('#df-719a37e9-9286-46a0-9d24-0215466c9fc6 button');\n",
              "      quickchartButtonEl.style.display =\n",
              "        google.colab.kernel.accessAllowed ? 'block' : 'none';\n",
              "    })();\n",
              "  </script>\n",
              "</div>\n",
              "\n",
              "    </div>\n",
              "  </div>\n"
            ],
            "application/vnd.google.colaboratory.intrinsic+json": {
              "type": "dataframe",
              "variable_name": "X_train"
            }
          },
          "metadata": {},
          "execution_count": 67
        }
      ]
    },
    {
      "cell_type": "markdown",
      "source": [
        "####  Step 9: Strategic Pivot\n",
        "\n",
        "\n",
        "---\n",
        "\n",
        "\n",
        " - We achieved excellent results by using the `log_price` column instead of the `price` column with the Random Forest model.\n",
        " - Additionally, we reduced the number of estimators from 100 to just 10, making the model both lightweight and highly effective."
      ],
      "metadata": {
        "id": "QXUnSziZ-9NL"
      }
    },
    {
      "cell_type": "code",
      "source": [
        "import pandas as pd\n",
        "import numpy as np\n",
        "from sklearn.ensemble import RandomForestRegressor\n",
        "from sklearn.model_selection import train_test_split\n",
        "\n",
        "df2 = pd.read_csv('/content/cleaned_data.csv').copy()\n",
        "\n",
        "\n",
        "Q1 = df2['price'].quantile(0.25)\n",
        "Q3 = df2['price'].quantile(0.75)\n",
        "IQR = Q3 - Q1\n",
        "\n",
        "# Define the bounds for outliers\n",
        "lower_bound = Q1 - 1.5 * IQR\n",
        "upper_bound = Q3 + 1.5 * IQR\n",
        "\n",
        "# Filter out outliers\n",
        "df2 = df2[(df2['price'] >= lower_bound) & (df2['price'] <= upper_bound)]\n",
        "\n",
        "# To avoid warning: SettingWithCopyWarning\n",
        "df2 = df2.copy()\n",
        "\n",
        "# Apply log transformation to the target variable\n",
        "df2.loc[:,'log_price'] = np.log(df2.loc[:,'price'])\n",
        "\n",
        "# Save with 4 input and 1 target columns as filtered_data.csv\n",
        "filt_dataframe = df2.loc[:,['totalPrice', 'square', 'communityAverage', 'year','log_price']]\n",
        "filt_dataframe.to_csv('filtered_data.csv',index=False)"
      ],
      "metadata": {
        "id": "jXqFkI0Hirpp"
      },
      "execution_count": 68,
      "outputs": []
    },
    {
      "cell_type": "markdown",
      "source": [
        "Here, we have exported `filtered data` as `filtered_data.csv` and used as data frame in next step.\n",
        "\n"
      ],
      "metadata": {
        "id": "tXsH_iPfUMoZ"
      }
    },
    {
      "cell_type": "code",
      "source": [
        "from sklearn.metrics import mean_squared_error, mean_absolute_error, r2_score\n",
        "\n",
        "# Train on filtered 5 columns only\n",
        "filtered_df = pd.read_csv('/content/filtered_data.csv')\n",
        "\n",
        "# Use 'log_price' for training and then transform predictions back to the original scale\n",
        "X = filtered_df.loc[:,['totalPrice', 'square', 'communityAverage', 'year']]\n",
        "y = filtered_df.loc[:,'log_price']\n",
        "\n",
        "X_train,X_test,y_train,y_test = train_test_split(X,y)\n",
        "\n",
        "# Train the model\n",
        "model = RandomForestRegressor(n_estimators=10, random_state=42)\n",
        "model.fit(X_train, y_train)\n",
        "\n",
        "\n",
        "# Make predictions\n",
        "predicted_log_price = model.predict(X_test)\n",
        "\n",
        "# Transform predictions back to the original scale\n",
        "predicted_price = np.exp(predicted_log_price)\n",
        "\n",
        "# Also transform the true values back to the original scale\n",
        "true_price = np.exp(y_test)\n",
        "\n",
        "# Calculate evaluation metrics\n",
        "mse = mean_squared_error(true_price, predicted_price)\n",
        "rmse = np.sqrt(mse)\n",
        "mae = mean_absolute_error(true_price, predicted_price)\n",
        "r2 = r2_score(true_price, predicted_price)\n",
        "\n",
        "\n",
        "print(f\"Mean Squared Error (MSE): {mse}\")\n",
        "print(f\"Root Mean Squared Error (RMSE): {rmse}\")\n",
        "print(f\"Mean Absolute Error (MAE): {mae}\")\n",
        "print(f\"R-squared (R^2): {r2}\")\n"
      ],
      "metadata": {
        "id": "d32a1r3wS2dJ",
        "colab": {
          "base_uri": "https://localhost:8080/"
        },
        "outputId": "00dab2be-3b6b-486c-eb4b-1d72ac72246c"
      },
      "execution_count": 69,
      "outputs": [
        {
          "output_type": "stream",
          "name": "stdout",
          "text": [
            "Mean Squared Error (MSE): 478787.55028029287\n",
            "Root Mean Squared Error (RMSE): 691.9447595583717\n",
            "Mean Absolute Error (MAE): 230.52023024516035\n",
            "R-squared (R^2): 0.9984528629791923\n"
          ]
        }
      ]
    },
    {
      "cell_type": "markdown",
      "source": [
        "Summary of Metrics by Number of Estimators\n",
        "\n",
        "\n",
        "---\n",
        "\n",
        "\n",
        "\n",
        "| Estimators | MSE        | RMSE     | MAE        | R²          |\n",
        "|------------|------------|----------|------------|-------------|\n",
        "| 5          | 430,336.21 | 656.00   | 246.82     | 0.9985      |\n",
        "| 8          | 479,481.66 | 692.45   | 239.80     | 0.9983      |\n",
        "| 10         | 269,175.29 | 518.82   | 186.05     | 0.9991      |\n",
        "| 13         | 433,258.34 | 658.22   | 215.96     | 0.9985      |\n",
        "| 15         | 297,318.47 | 545.27   | 185.02     | 0.9990      |\n",
        "| 16         | 423,048.52 | 650.42   | 208.17     | 0.9985      |\n",
        "| 20         | 413,638.79 | 643.15   | 200.96     | 0.9986      |\n",
        "| 32         | 317,560.38 | 563.52   | 175.89     | 0.9989      |\n",
        "| 64         | 314,188.00 | 560.52   | 166.09     | 0.9989      |\n",
        "| 100        | 459,565.88 | 677.91   | 177.27     | 0.9985      |\n",
        "\n",
        "\n",
        "\n",
        "---\n",
        "\n",
        "\n",
        "- The model with `10 estimators` appears to be the optimal choice based on the balance of all metrics, particularly excelling in MSE, RMSE, and maintaining a high R².\n",
        "- The models with higher numbers of estimators (such as 64 and 100) do not significantly improve performance and may even degrade it, especially in terms of RMSE and R².\n",
        "\n"
      ],
      "metadata": {
        "id": "xRoIBF4ZoTQN"
      }
    },
    {
      "cell_type": "code",
      "source": [
        "# Check for any random test values and plotting 10k random points\n",
        "\n",
        "# Initialize lists to store actual and predicted values\n",
        "actual_values = []\n",
        "predicted_values = []\n",
        "\n",
        "for i in range(0,10000):\n",
        "  random_idx = np.random.randint(1,y_test.shape[0])\n",
        "\n",
        "  actual =  int(np.exp(y_test.iloc[random_idx]))\n",
        "  prediction = int(predicted_price[random_idx])\n",
        "\n",
        "  actual_values.append(actual)\n",
        "  predicted_values.append(prediction)\n",
        "\n",
        "  diff = abs(actual - prediction)\n",
        "  if i % 1000 ==0:\n",
        "    print(f\"Actual: {actual} | Prediction: {prediction} | difference: {diff}\")"
      ],
      "metadata": {
        "id": "vFAReGO0YaQ8",
        "colab": {
          "base_uri": "https://localhost:8080/"
        },
        "outputId": "180b1868-be3e-4f5f-9a6e-f830c8cfe1be"
      },
      "execution_count": 70,
      "outputs": [
        {
          "output_type": "stream",
          "name": "stdout",
          "text": [
            "Actual: 23483 | Prediction: 23549 | difference: 66\n",
            "Actual: 52840 | Prediction: 52738 | difference: 102\n",
            "Actual: 60915 | Prediction: 61148 | difference: 233\n",
            "Actual: 44543 | Prediction: 44457 | difference: 86\n",
            "Actual: 11034 | Prediction: 10865 | difference: 169\n",
            "Actual: 52428 | Prediction: 54060 | difference: 1632\n",
            "Actual: 31968 | Prediction: 31921 | difference: 47\n",
            "Actual: 35907 | Prediction: 35899 | difference: 8\n",
            "Actual: 24805 | Prediction: 24776 | difference: 29\n",
            "Actual: 24380 | Prediction: 24308 | difference: 72\n"
          ]
        }
      ]
    },
    {
      "cell_type": "code",
      "source": [
        "import numpy as np\n",
        "import matplotlib.pyplot as plt\n",
        "\n",
        "\n",
        "# Plotting\n",
        "plt.figure(figsize=(10, 6))\n",
        "plt.scatter(actual_values, predicted_values, color='blue')\n",
        "plt.plot(actual_values, actual_values, color='red')\n",
        "plt.title('Actual vs Predicted Prices')\n",
        "plt.xlabel('Actual Price')\n",
        "plt.ylabel('Predicted Price')\n",
        "plt.grid(True)\n",
        "plt.show()"
      ],
      "metadata": {
        "colab": {
          "base_uri": "https://localhost:8080/",
          "height": 0
        },
        "id": "whcxdE25470q",
        "outputId": "8057a3bf-f311-4f9b-c942-9b8089577217"
      },
      "execution_count": 71,
      "outputs": [
        {
          "output_type": "display_data",
          "data": {
            "text/plain": [
              "<Figure size 1000x600 with 1 Axes>"
            ],
            "image/png": "[encoded data removed]"
          },
          "metadata": {}
        }
      ]
    },
    {
      "cell_type": "markdown",
      "source": [
        "### Step 10: Export Model\n",
        "\n",
        "\n",
        "---\n",
        "We have exported a Random Forest model with 10 estimators, configured to take four input features and predict the price.\n"
      ],
      "metadata": {
        "id": "pmz4I-UdKAXX"
      }
    },
    {
      "cell_type": "code",
      "source": [
        "# Storing Good Model\n",
        "import pickle\n",
        "\n",
        "with open('random_forest_model.pkl', 'wb') as file:\n",
        "    pickle.dump(model, file)"
      ],
      "metadata": {
        "id": "MreSFJipiN74"
      },
      "execution_count": 72,
      "outputs": []
    }
  ],
  "metadata": {
    "colab": {
      "provenance": [],
      "collapsed_sections": [
        "1ZO_jMGgQ4_e",
        "Q9D3WFc0ZcIq",
        "T-MkXPsKf04K",
        "CpvyQLDGc1e8"
      ]
    },
    "kernelspec": {
      "display_name": "Python 3",
      "name": "python3"
    },
    "language_info": {
      "name": "python"
    }
  },
  "nbformat": 4,
  "nbformat_minor": 0
}